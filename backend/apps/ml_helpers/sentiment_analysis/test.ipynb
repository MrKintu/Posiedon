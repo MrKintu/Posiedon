{
 "cells": [
  {
   "cell_type": "markdown",
   "metadata": {},
   "source": [
    "Load Libraries"
   ]
  },
  {
   "cell_type": "code",
   "execution_count": 1,
   "metadata": {},
   "outputs": [
    {
     "name": "stdout",
     "output_type": "stream",
     "text": [
      "WARNING:tensorflow:From a:\\PROJECTS\\Poseidon\\backend\\venv\\Lib\\site-packages\\tf_keras\\src\\losses.py:2976: The name tf.losses.sparse_softmax_cross_entropy is deprecated. Please use tf.compat.v1.losses.sparse_softmax_cross_entropy instead.\n",
      "\n"
     ]
    }
   ],
   "source": [
    "import os\n",
    "import pandas as pd\n",
    "import numpy as np\n",
    "import torch\n",
    "from torch.utils.data import Dataset, DataLoader\n",
    "from transformers import AutoTokenizer, AutoModelForSequenceClassification, Trainer, TrainingArguments\n",
    "from sklearn.base import BaseEstimator, ClassifierMixin\n",
    "from sklearn.metrics import classification_report, accuracy_score, confusion_matrix\n",
    "from sklearn.model_selection import train_test_split, KFold, cross_val_score, cross_validate\n",
    "from sklearn.preprocessing import StandardScaler\n",
    "from sklearn.linear_model import LogisticRegression\n",
    "from sklearn.feature_extraction.text import TfidfVectorizer\n",
    "import seaborn as sns\n",
    "import matplotlib.pyplot as plt\n",
    "import joblib"
   ]
  },
  {
   "cell_type": "markdown",
   "metadata": {},
   "source": [
    "Step 1: Load and Explore Data"
   ]
  },
  {
   "cell_type": "code",
   "execution_count": 2,
   "metadata": {},
   "outputs": [
    {
     "name": "stdout",
     "output_type": "stream",
     "text": [
      "       textID                                               text  \\\n",
      "0  cb774db0d1                I`d have responded, if I were going   \n",
      "1  549e992a42      Sooo SAD I will miss you here in San Diego!!!   \n",
      "2  088c60f138                          my boss is bullying me...   \n",
      "3  9642c003ef                     what interview! leave me alone   \n",
      "4  358bd9e861   Sons of ****, why couldn`t they put them on t...   \n",
      "\n",
      "                         selected_text sentiment Time of Tweet Age of User  \\\n",
      "0  I`d have responded, if I were going   neutral       morning        0-20   \n",
      "1                             Sooo SAD  negative          noon       21-30   \n",
      "2                          bullying me  negative         night       31-45   \n",
      "3                       leave me alone  negative       morning       46-60   \n",
      "4                        Sons of ****,  negative          noon       60-70   \n",
      "\n",
      "       Country  Population -2020  Land Area (Km²)  Density (P/Km²)  \n",
      "0  Afghanistan          38928346         652860.0               60  \n",
      "1      Albania           2877797          27400.0              105  \n",
      "2      Algeria          43851044        2381740.0               18  \n",
      "3      Andorra             77265            470.0              164  \n",
      "4       Angola          32866272        1246700.0               26  \n",
      "       Population -2020  Land Area (Km²)  Density (P/Km²)\n",
      "count      2.748100e+04     2.748100e+04     27481.000000\n",
      "mean       4.018497e+07     6.621730e+05       357.686583\n",
      "std        1.504946e+08     1.807425e+06      2013.750702\n",
      "min        8.010000e+02     0.000000e+00         2.000000\n",
      "25%        1.968001e+06     2.281000e+04        35.000000\n",
      "50%        8.655535e+06     1.118900e+05        89.000000\n",
      "75%        2.843594e+07     5.279700e+05       214.000000\n",
      "max        1.439324e+09     1.637687e+07     26337.000000\n",
      "['neutral' 'negative' 'positive']\n",
      "<class 'pandas.core.frame.DataFrame'>\n",
      "RangeIndex: 27481 entries, 0 to 27480\n",
      "Data columns (total 10 columns):\n",
      " #   Column            Non-Null Count  Dtype  \n",
      "---  ------            --------------  -----  \n",
      " 0   textID            27481 non-null  object \n",
      " 1   text              27480 non-null  object \n",
      " 2   selected_text     27480 non-null  object \n",
      " 3   sentiment         27481 non-null  object \n",
      " 4   Time of Tweet     27481 non-null  object \n",
      " 5   Age of User       27481 non-null  object \n",
      " 6   Country           27481 non-null  object \n",
      " 7   Population -2020  27481 non-null  int64  \n",
      " 8   Land Area (Km²)   27481 non-null  float64\n",
      " 9   Density (P/Km²)   27481 non-null  int64  \n",
      "dtypes: float64(1), int64(2), object(7)\n",
      "memory usage: 2.1+ MB\n",
      "None\n",
      "Missing Values:\n",
      "textID              0\n",
      "text                1\n",
      "selected_text       1\n",
      "sentiment           0\n",
      "Time of Tweet       0\n",
      "Age of User         0\n",
      "Country             0\n",
      "Population -2020    0\n",
      "Land Area (Km²)     0\n",
      "Density (P/Km²)     0\n",
      "dtype: int64\n",
      "\n",
      "Duplicated Rows: 0\n",
      "\n",
      "\n",
      "   ID  Unnamed                                               Text  \\\n",
      "0   0        0   Enjoying a beautiful day at the park!        ...   \n",
      "1   1        1   Traffic was terrible this morning.           ...   \n",
      "2   2        2   Just finished an amazing workout! 💪          ...   \n",
      "3   3        3   Excited about the upcoming weekend getaway!  ...   \n",
      "4   4        4   Trying out a new recipe for dinner tonight.  ...   \n",
      "\n",
      "     Sentiment         Timestamp            User     Platform  \\\n",
      "0   Positive    15/01/2023 12:30   User123          Twitter     \n",
      "1   Negative    15/01/2023 08:45   CommuterX        Twitter     \n",
      "2   Positive    15/01/2023 15:45   FitnessFan      Instagram    \n",
      "3   Positive    15/01/2023 18:20   AdventureX       Facebook    \n",
      "4   Neutral     15/01/2023 19:55   ChefCook        Instagram    \n",
      "\n",
      "                                     Hashtags  Retweets  Likes       Country  \\\n",
      "0   #Nature #Park                                    15     30     USA         \n",
      "1   #Traffic #Morning                                 5     10     Canada      \n",
      "2   #Fitness #Workout                                20     40   USA           \n",
      "3   #Travel #Adventure                                8     15     UK          \n",
      "4   #Cooking #Food                                   12     25    Australia    \n",
      "\n",
      "   Year  Month  Day  Hour  \n",
      "0  2023      1   15    12  \n",
      "1  2023      1   15     8  \n",
      "2  2023      1   15    15  \n",
      "3  2023      1   15    18  \n",
      "4  2023      1   15    19  \n",
      "               ID     Unnamed    Retweets       Likes         Year  \\\n",
      "count  732.000000  732.000000  732.000000  732.000000   732.000000   \n",
      "mean   366.464481  369.740437   21.508197   42.901639  2020.471311   \n",
      "std    211.513936  212.428936    7.061286   14.089848     2.802285   \n",
      "min      0.000000    0.000000    5.000000   10.000000  2010.000000   \n",
      "25%    183.750000  185.750000   17.750000   34.750000  2019.000000   \n",
      "50%    366.500000  370.500000   22.000000   43.000000  2021.000000   \n",
      "75%    549.250000  553.250000   25.000000   50.000000  2023.000000   \n",
      "max    732.000000  736.000000   40.000000   80.000000  2023.000000   \n",
      "\n",
      "            Month         Day        Hour  \n",
      "count  732.000000  732.000000  732.000000  \n",
      "mean     6.122951   15.497268   15.521858  \n",
      "std      3.411763    8.474553    4.113414  \n",
      "min      1.000000    1.000000    0.000000  \n",
      "25%      3.000000    9.000000   13.000000  \n",
      "50%      6.000000   15.000000   16.000000  \n",
      "75%      9.000000   22.000000   19.000000  \n",
      "max     12.000000   31.000000   23.000000  \n",
      "[' Positive  ' ' Negative  ' ' Neutral   ' ' Anger        '\n",
      " ' Fear         ' ' Sadness      ' ' Disgust      ' ' Happiness    '\n",
      " ' Joy          ' ' Love         ' ' Amusement    ' ' Enjoyment    '\n",
      " ' Admiration   ' ' Affection    ' ' Awe          ' ' Disappointed '\n",
      " ' Surprise     ' ' Acceptance   ' ' Adoration    ' ' Anticipation '\n",
      " ' Bitter       ' ' Calmness     ' ' Confusion    ' ' Excitement   '\n",
      " ' Kind         ' ' Pride        ' ' Shame        ' ' Confusion '\n",
      " ' Excitement ' ' Shame ' ' Elation       ' ' Euphoria      '\n",
      " ' Contentment   ' ' Serenity      ' ' Gratitude     ' ' Hope          '\n",
      " ' Empowerment   ' ' Compassion    ' ' Tenderness    ' ' Arousal       '\n",
      " ' Enthusiasm    ' ' Fulfillment  ' ' Reverence     ' ' Compassion'\n",
      " ' Fulfillment   ' ' Reverence ' ' Elation   ' ' Despair         '\n",
      " ' Grief           ' ' Loneliness      ' ' Jealousy        '\n",
      " ' Resentment      ' ' Frustration     ' ' Boredom         '\n",
      " ' Anxiety         ' ' Intimidation    ' ' Helplessness    '\n",
      " ' Envy            ' ' Regret         ' ' Disgust         '\n",
      " ' Despair      ' ' Loneliness ' ' Frustration ' ' Anxiety   '\n",
      " ' Intimidation ' ' Helplessness ' ' Jealousy    ' ' Curiosity       '\n",
      " ' Indifference    ' ' Confusion       ' ' Numbness        '\n",
      " ' Melancholy      ' ' Nostalgia       ' ' Ambivalence     '\n",
      " ' Acceptance      ' ' Determination   ' ' Serenity        ' ' Numbness '\n",
      " ' Zest ' ' Contentment ' ' Hopeful ' ' Proud ' ' Grateful '\n",
      " ' Empathetic ' ' Compassionate ' ' Playful ' ' Free-spirited '\n",
      " ' Inspired ' ' Confident ' ' Serenity ' ' Curiosity ' ' Ambivalence '\n",
      " ' Despair ' ' Bitterness ' ' Yearning ' ' Fearful ' ' Apprehensive '\n",
      " ' Overwhelmed ' ' Jealous ' ' Devastated ' ' Frustrated ' ' Envious '\n",
      " ' Dismissive ' ' Awe           ' ' Determination ' ' Nostalgia      '\n",
      " ' Thrill        ' ' Calmness      ' ' Overwhelmed   ' ' Gratitude   '\n",
      " ' Bittersweet ' ' Curiosity     ' ' Admiration    ' ' Overjoyed     '\n",
      " ' Inspiration   ' ' Motivation    ' ' Amusement     ' ' Contemplation '\n",
      " ' JoyfulReunion ' ' Excitement    ' ' Satisfaction  ' ' Blessed       '\n",
      " ' Anticipation  ' ' Reflection    ' ' Nostalgia     ' ' Appreciation  '\n",
      " ' Confidence    ' ' Surprise      ' ' Accomplishment ' ' Wonderment    '\n",
      " ' Optimism      ' ' Pride         ' ' Happiness     ' ' Curiosity   '\n",
      " ' Enchantment   ' ' Intrigue      ' ' PlayfulJoy    ' ' Mindfulness   '\n",
      " ' DreamChaser   ' ' Elegance ' ' Whimsy        ' ' Pensive '\n",
      " ' Thrill      ' ' Harmony    ' ' Creativity   ' ' Radiance    '\n",
      " ' Wonder     ' ' Rejuvenation ' ' Inspiration ' ' Coziness     '\n",
      " ' Gratitude  ' ' Adventure ' ' Euphoria   ' ' Awe    ' ' Melodic       '\n",
      " ' FestiveJoy    ' ' InnerJourney  ' ' Freedom       ' ' Dazzle        '\n",
      " ' Adrenaline     ' ' Harmony       ' ' ArtisticBurst ' ' Radiance      '\n",
      " ' Wonder       ' ' Inspiration  ' ' CulinaryOdyssey ' ' Euphoria     '\n",
      " ' Curiosity  ' ' Resilience   ' ' Immersion ' ' Nostalgia '\n",
      " ' Spark        ' ' Gratitude    ' ' Marvel       ' ' Serenity   '\n",
      " ' Heartbreak    ' ' Loneliness    ' ' Grief      ' ' Despair   '\n",
      " ' Betrayal      ' ' Suffering ' ' EmotionalStorm ' ' Regret        '\n",
      " ' Isolation ' ' Disappointment ' ' LostLove ' ' Melancholy '\n",
      " ' Exhaustion ' ' Sorrow      ' ' Darkness     ' ' Desperation '\n",
      " ' Ruins      ' ' Desolation ' ' Regret ' ' Grief ' ' Heartbreak '\n",
      " ' Betrayal ' ' Resilience ' ' Sorrow ' ' Loss ' ' Heartache '\n",
      " ' Solitude ' ' Joy ' ' Happiness ' ' Enthusiasm ' ' Gratitude '\n",
      " ' Positivity ' ' Kindness ' ' Friendship ' ' Love ' ' Surprise '\n",
      " ' Success ' ' Thrill ' ' Reflection ' ' Enchantment ' ' Exploration '\n",
      " ' Awe ' ' Amazement ' ' Romance ' ' Captivation ' ' Wonder '\n",
      " ' Tranquility ' ' Grandeur ' ' Emotion ' ' Energy ' ' Celebration '\n",
      " ' Charm ' ' Ecstasy ' ' Hope ' ' Creativity ' ' Colorful ' ' Pride '\n",
      " ' Hypnotic ' ' Connection ' ' Iconic ' ' Euphoria ' ' Journey '\n",
      " ' Engagement ' ' Touched ' ' Suspense ' ' Satisfaction ' ' Admiration '\n",
      " ' Triumph ' ' Heartwarming ' ' Obstacle ' ' Sympathy ' ' Pressure '\n",
      " ' Renewed Effort ' ' Miscalculation ' ' Challenge ' ' Solace '\n",
      " ' Breakthrough ' ' Harmony ' ' Joy in Baking ' ' Envisioning History '\n",
      " ' Imagination ' ' Vibrancy ' ' Mesmerizing ' ' Culinary Adventure '\n",
      " ' Winter Magic ' ' Thrilling Journey ' \" Nature's Beauty \"\n",
      " ' Celestial Wonder ' ' Creative Inspiration ' ' Runway Creativity '\n",
      " \" Ocean's Freedom \" ' Whispers of the Past ' ' Boredom ' ' Indifference '\n",
      " ' Disgust ' ' Relief ' ' Positive ' ' Embarrassed ' ' Mischievous '\n",
      " ' Sad ' ' Hate ' ' Bad ' ' Neutral ' ' Happy ']\n",
      "<class 'pandas.core.frame.DataFrame'>\n",
      "RangeIndex: 732 entries, 0 to 731\n",
      "Data columns (total 15 columns):\n",
      " #   Column     Non-Null Count  Dtype \n",
      "---  ------     --------------  ----- \n",
      " 0   ID         732 non-null    int64 \n",
      " 1   Unnamed    732 non-null    int64 \n",
      " 2   Text       732 non-null    object\n",
      " 3   Sentiment  732 non-null    object\n",
      " 4   Timestamp  732 non-null    object\n",
      " 5   User       732 non-null    object\n",
      " 6   Platform   732 non-null    object\n",
      " 7   Hashtags   732 non-null    object\n",
      " 8   Retweets   732 non-null    int64 \n",
      " 9   Likes      732 non-null    int64 \n",
      " 10  Country    732 non-null    object\n",
      " 11  Year       732 non-null    int64 \n",
      " 12  Month      732 non-null    int64 \n",
      " 13  Day        732 non-null    int64 \n",
      " 14  Hour       732 non-null    int64 \n",
      "dtypes: int64(8), object(7)\n",
      "memory usage: 85.9+ KB\n",
      "None\n",
      "Missing Values:\n",
      "ID           0\n",
      "Unnamed      0\n",
      "Text         0\n",
      "Sentiment    0\n",
      "Timestamp    0\n",
      "User         0\n",
      "Platform     0\n",
      "Hashtags     0\n",
      "Retweets     0\n",
      "Likes        0\n",
      "Country      0\n",
      "Year         0\n",
      "Month        0\n",
      "Day          0\n",
      "Hour         0\n",
      "dtype: int64\n",
      "\n",
      "Duplicated Rows: 0\n"
     ]
    }
   ],
   "source": [
    "data1 = pd.read_csv('data1.csv')\n",
    "data2 = pd.read_csv('data2.csv')\n",
    "\n",
    "print(data1.head())\n",
    "print(data1.describe())\n",
    "print(data1['sentiment'].unique())\n",
    "print(data1.info())\n",
    "print(f\"Missing Values:\\n{data1.isnull().sum()}\\n\")\n",
    "print(f\"Duplicated Rows: {data1.duplicated().sum()}\")\n",
    "print(\"\\n\")\n",
    "print(data2.head())\n",
    "print(data2.describe())\n",
    "print(data2['Sentiment'].unique())\n",
    "print(data2.info())\n",
    "print(f\"Missing Values:\\n{data2.isnull().sum()}\\n\")\n",
    "print(f\"Duplicated Rows: {data2.duplicated().sum()}\")"
   ]
  },
  {
   "cell_type": "markdown",
   "metadata": {},
   "source": [
    "Step 2: Dataset Class for Transformers"
   ]
  },
  {
   "cell_type": "code",
   "execution_count": 3,
   "metadata": {},
   "outputs": [],
   "source": [
    "# Add label mapping with normalized labels\n",
    "label_mapping = {\n",
    "    'positive': 0,\n",
    "    'negative': 1,\n",
    "    'neutral': 2\n",
    "}\n",
    "\n",
    "class TextDataset(Dataset):\n",
    "    def __init__(self, texts, labels, tokenizer, max_length):\n",
    "        self.texts = texts\n",
    "        # Preprocess labels to handle spaces and case variations\n",
    "        self.labels = [label_mapping[label.strip()] if label.strip() in label_mapping \n",
    "                      else label_mapping[label] for label in labels]  # Convert string labels to integers\n",
    "        self.tokenizer = tokenizer\n",
    "        self.max_length = max_length\n",
    "\n",
    "    def __len__(self):\n",
    "        return len(self.texts)\n",
    "\n",
    "    def __getitem__(self, idx):\n",
    "        text = self.texts[idx]\n",
    "        label = self.labels[idx]\n",
    "        encoding = self.tokenizer(\n",
    "            text,\n",
    "            max_length=self.max_length,\n",
    "            padding=\"max_length\",\n",
    "            truncation=True,\n",
    "            return_tensors=\"pt\",\n",
    "        )\n",
    "        item = {key: val.squeeze(0) for key, val in encoding.items()}\n",
    "        item['labels'] = torch.tensor(label, dtype=torch.long)\n",
    "        return item"
   ]
  },
  {
   "cell_type": "markdown",
   "metadata": {},
   "source": [
    "Step 3: Preprocessing for Transformers"
   ]
  },
  {
   "cell_type": "code",
   "execution_count": 4,
   "metadata": {},
   "outputs": [
    {
     "name": "stdout",
     "output_type": "stream",
     "text": [
      "Dataset 1 labels:\n",
      "Unique labels in sentiment: {'neutral', 'positive', 'negative'}\n",
      "\n",
      "Dataset 2 labels:\n",
      "Unique labels in Sentiment: {' Inspiration ', ' Excitement   ', ' Sorrow ', ' Miscalculation ', ' Curiosity   ', ' Empowerment   ', ' Betrayal ', ' Fearful ', ' Joy in Baking ', ' Ecstasy ', ' Anxiety         ', ' Exploration ', ' Reverence     ', ' Excitement ', ' Inspiration  ', ' Mesmerizing ', ' Mischievous ', ' Isolation ', ' Reflection ', ' Embarrassed ', ' Enthusiasm    ', ' Awe ', ' Darkness     ', ' Bad ', ' Melancholy      ', ' Bittersweet ', ' Apprehensive ', ' Wonder     ', ' Wonderment    ', ' Negative  ', ' Jealousy        ', ' Hope ', ' Serenity   ', ' Frustration     ', ' Radiance    ', ' Nostalgia      ', ' Numbness ', ' Optimism      ', ' Loneliness      ', ' Kind         ', ' Tenderness    ', ' Enthusiasm ', ' Happiness    ', ' Anxiety   ', ' Grandeur ', ' Euphoria      ', ' Suspense ', ' Pensive ', ' Grief      ', ' Desperation ', ' Heartbreak ', ' Colorful ', ' Compassion', ' Boredom ', ' Heartache ', ' Whispers of the Past ', ' Envisioning History ', ' Gratitude   ', ' Thrilling Journey ', ' Indifference    ', ' Free-spirited ', ' Positivity ', ' Thrill ', ' Pressure ', ' FestiveJoy    ', ' CulinaryOdyssey ', ' Proud ', ' DreamChaser   ', ' Immersion ', ' Love         ', ' Intimidation    ', ' Overjoyed     ', ' Euphoria   ', ' Serenity ', ' Elation   ', ' Grief ', ' ArtisticBurst ', ' Resilience ', ' Celebration ', ' Gratitude ', ' Solace ', ' Obstacle ', ' Arousal       ', ' Desolation ', ' Triumph ', ' Devastated ', ' Awe           ', ' Romance ', ' Dismissive ', ' Curiosity     ', ' Gratitude    ', ' Helplessness    ', ' Culinary Adventure ', ' Elegance ', ' Charm ', ' Imagination ', ' Anticipation  ', ' Gratitude     ', ' Rejuvenation ', ' Determination   ', ' Regret         ', ' Whimsy        ', ' Breakthrough ', ' Contemplation ', ' Affection    ', ' Admiration   ', ' Despair         ', ' Melancholy ', ' Creative Inspiration ', ' Elation       ', ' PlayfulJoy    ', ' Harmony       ', ' Spark        ', ' Jealous ', ' Appreciation  ', ' Excitement    ', ' Pride ', ' Loss ', ' Celestial Wonder ', ' Adoration    ', ' Kindness ', ' Compassion    ', ' Coziness     ', ' Pride         ', ' Overwhelmed ', ' Disgust         ', ' Ambivalence ', ' Creativity ', ' Euphoria ', ' InnerJourney  ', ' Anger        ', ' Captivation ', ' Heartwarming ', ' Enchantment ', ' Frustrated ', ' Euphoria     ', ' Solitude ', ' Engagement ', ' Winter Magic ', ' Happy ', ' Anticipation ', ' Hopeful ', ' Happiness     ', ' Reflection    ', ' Adventure ', ' Bitter       ', ' LostLove ', ' Freedom       ', ' Admiration    ', ' Pride        ', ' Resentment      ', ' Inspired ', ' Calmness     ', ' Hate ', ' Sadness      ', ' Joy          ', ' Loneliness ', ' Calmness      ', ' Energy ', ' JoyfulReunion ', ' Radiance      ', ' Awe    ', ' Satisfaction  ', ' Harmony    ', ' Marvel       ', ' Vibrancy ', ' Nostalgia ', ' Neutral ', ' Acceptance   ', ' Hope          ', ' Curiosity  ', ' Accomplishment ', \" Ocean's Freedom \", ' Despair ', ' Boredom         ', ' Acceptance      ', ' Enjoyment    ', ' Gratitude  ', ' Suffering ', ' Yearning ', ' Thrill        ', ' Sorrow      ', ' Amazement ', ' Regret        ', ' Confident ', ' Wonder ', ' Surprise      ', ' Happiness ', ' Compassionate ', ' Frustration ', ' Numbness        ', ' Fulfillment  ', ' Empathetic ', ' Challenge ', ' Harmony ', ' Playful ', ' Exhaustion ', ' Serenity      ', ' Envious ', ' Heartbreak    ', ' Touched ', ' Confusion       ', ' EmotionalStorm ', ' Love ', ' Thrill      ', ' Ruins      ', ' Reverence ', ' Surprise ', ' Curiosity       ', ' Melodic       ', ' Indifference ', ' Inspiration   ', ' Despair      ', ' Contentment ', ' Determination ', ' Regret ', ' Disgust ', ' Confusion    ', ' Journey ', ' Creativity   ', ' Betrayal      ', \" Nature's Beauty \", ' Grateful ', ' Awe          ', ' Confusion ', ' Blessed       ', ' Positive  ', ' Zest ', ' Loneliness    ', ' Resilience   ', ' Curiosity ', ' Mindfulness   ', ' Sympathy ', ' Renewed Effort ', ' Runway Creativity ', ' Intimidation ', ' Shame        ', ' Fear         ', ' Motivation    ', ' Helplessness ', ' Enchantment   ', ' Success ', ' Wonder       ', ' Ambivalence     ', ' Fulfillment   ', ' Satisfaction ', ' Disappointed ', ' Amusement    ', ' Confidence    ', ' Overwhelmed   ', ' Relief ', ' Envy            ', ' Surprise     ', ' Dazzle        ', ' Neutral   ', ' Hypnotic ', ' Nostalgia       ', ' Disgust      ', ' Friendship ', ' Jealousy    ', ' Intrigue      ', ' Grief           ', ' Amusement     ', ' Emotion ', ' Contentment   ', ' Serenity        ', ' Despair   ', ' Admiration ', ' Disappointment ', ' Tranquility ', ' Adrenaline     ', ' Iconic ', ' Nostalgia     ', ' Joy ', ' Bitterness ', ' Positive ', ' Shame ', ' Sad ', ' Connection '}\n"
     ]
    }
   ],
   "source": [
    "# Load tokenizer for pre-trained transformer model\n",
    "tokenizer = AutoTokenizer.from_pretrained(\"distilbert-base-uncased\")\n",
    "\n",
    "def preprocess_data(df, text_column, label_column):\n",
    "    texts = df[text_column].fillna(\"\").tolist()\n",
    "    labels = df[label_column].tolist()\n",
    "    # Print unique labels to see what we're dealing with\n",
    "    print(f\"Unique labels in {label_column}:\", set(labels))\n",
    "    return texts, labels\n",
    "\n",
    "# Print unique labels before processing\n",
    "print(\"Dataset 1 labels:\")\n",
    "texts1, labels1 = preprocess_data(data1, \"selected_text\", \"sentiment\")\n",
    "print(\"\\nDataset 2 labels:\")\n",
    "texts2, labels2 = preprocess_data(data2, \"Text\", \"Sentiment\")\n",
    "\n",
    "# Normalize labels function\n",
    "def normalize_label(label):\n",
    "    # Convert to lowercase and strip whitespace\n",
    "    normalized = label.lower().strip()\n",
    "    # Map emotions to sentiment categories\n",
    "    positive_emotions = {\n",
    "        'happy', 'joy', 'excited', 'enthusiasm', 'euphoria', 'proud', 'pride', 'gratitude',\n",
    "        'hope', 'optimism', 'satisfaction', 'confidence', 'admiration', 'love', 'happiness',\n",
    "        'positive', 'radiance', 'dazzle', 'elation', 'triumph', 'blessed', 'success',\n",
    "        'accomplishment', 'celebration', 'playful', 'inspiration', 'motivated'\n",
    "    }\n",
    "    negative_emotions = {\n",
    "        'sad', 'angry', 'fear', 'disgust', 'grief', 'regret', 'shame', 'guilt',\n",
    "        'disappointment', 'frustration', 'anxiety', 'despair', 'negative', 'heartbreak',\n",
    "        'sorrow', 'depression', 'melancholy', 'hatred', 'jealousy', 'envy', 'bitterness',\n",
    "        'loneliness', 'devastated', 'suffering', 'pain', 'darkness', 'desolation'\n",
    "    }\n",
    "    neutral_emotions = {\n",
    "        'neutral', 'calm', 'indifferent', 'ambivalent', 'contemplative', 'pensive',\n",
    "        'reflection', 'acceptance', 'numbness', 'confusion', 'surprise', 'wonder',\n",
    "        'curiosity', 'anticipation'\n",
    "    }\n",
    "    # Clean the normalized label further by removing any remaining spaces\n",
    "    normalized = ''.join(normalized.split())\n",
    "    # Map to sentiment categories\n",
    "    if any(emotion in normalized for emotion in positive_emotions):\n",
    "        return 'positive'\n",
    "    elif any(emotion in normalized for emotion in negative_emotions):\n",
    "        return 'negative'\n",
    "    else:\n",
    "        return 'neutral'\n",
    "\n",
    "class TextDataset(Dataset):\n",
    "    def __init__(self, texts, labels, tokenizer, max_length):\n",
    "        self.texts = texts\n",
    "        # Normalize and convert labels\n",
    "        normalized_labels = [normalize_label(label) for label in labels]\n",
    "        self.labels = [label_mapping[label] for label in normalized_labels]\n",
    "        self.tokenizer = tokenizer\n",
    "        self.max_length = max_length\n",
    "\n",
    "    def __len__(self):\n",
    "        return len(self.texts)\n",
    "\n",
    "    def __getitem__(self, idx):\n",
    "        text = self.texts[idx]\n",
    "        label = self.labels[idx]\n",
    "        encoding = self.tokenizer(\n",
    "            text,\n",
    "            max_length=self.max_length,\n",
    "            padding=\"max_length\",\n",
    "            truncation=True,\n",
    "            return_tensors=\"pt\",\n",
    "        )\n",
    "        item = {key: val.squeeze(0) for key, val in encoding.items()}\n",
    "        item['labels'] = torch.tensor(label, dtype=torch.long)\n",
    "        return item\n",
    "\n",
    "# Split datasets\n",
    "texts1_train, texts1_test, labels1_train, labels1_test = train_test_split(texts1, labels1, test_size=0.2, random_state=42)\n",
    "texts2_train, texts2_test, labels2_train, labels2_test = train_test_split(texts2, labels2, test_size=0.2, random_state=42)\n",
    "\n",
    "# Create PyTorch Datasets\n",
    "max_length = 128\n",
    "train_dataset1 = TextDataset(texts1_train, labels1_train, tokenizer, max_length)\n",
    "test_dataset1 = TextDataset(texts1_test, labels1_test, tokenizer, max_length)\n",
    "train_dataset2 = TextDataset(texts2_train, labels2_train, tokenizer, max_length)\n",
    "test_dataset2 = TextDataset(texts2_test, labels2_test, tokenizer, max_length)"
   ]
  },
  {
   "cell_type": "markdown",
   "metadata": {},
   "source": [
    "Step 4: Define Transformer Training Pipeline"
   ]
  },
  {
   "cell_type": "code",
   "execution_count": 5,
   "metadata": {},
   "outputs": [],
   "source": [
    "def evaluate_model(model, dataset, label_list):\n",
    "    trainer = Trainer(model=model, tokenizer=tokenizer)\n",
    "    predictions = trainer.predict(dataset)\n",
    "    preds = np.argmax(predictions.predictions, axis=1)\n",
    "    labels = dataset.labels\n",
    "    print(classification_report(labels, preds, target_names=label_list))\n",
    "    cm = confusion_matrix(labels, preds)\n",
    "    sns.heatmap(cm, annot=True, fmt=\"d\", cmap=\"Blues\")\n",
    "    plt.show()"
   ]
  },
  {
   "cell_type": "code",
   "execution_count": 6,
   "metadata": {},
   "outputs": [],
   "source": [
    "def train_sentiment_model_with_batches(data1, batch_size, num_iterations, tokenizer):\n",
    "    \"\"\"\n",
    "    Train sentiment model multiple times on different random batches of data\n",
    "    \"\"\"\n",
    "    model = AutoModelForSequenceClassification.from_pretrained(\"distilbert-base-uncased\", num_labels=3)\n",
    "    \n",
    "    for iteration in range(num_iterations):\n",
    "        print(f\"\\nTraining iteration {iteration + 1}/{num_iterations}\")\n",
    "        \n",
    "        # Sample a different batch each time\n",
    "        batch_data = data1.sample(n=batch_size, random_state=iteration)\n",
    "        \n",
    "        # Split into train/test\n",
    "        train_data, test_data = train_test_split(\n",
    "            batch_data, \n",
    "            test_size=0.2, \n",
    "            random_state=iteration\n",
    "        )\n",
    "        \n",
    "        # Create datasets\n",
    "        train_dataset = TextDataset(\n",
    "            texts=train_data['selected_text'].tolist(),\n",
    "            labels=train_data['sentiment'].tolist(),\n",
    "            tokenizer=tokenizer,\n",
    "            max_length=128\n",
    "        )\n",
    "        \n",
    "        test_dataset = TextDataset(\n",
    "            texts=test_data['selected_text'].tolist(),\n",
    "            labels=test_data['sentiment'].tolist(),\n",
    "            tokenizer=tokenizer,\n",
    "            max_length=128\n",
    "        )\n",
    "        \n",
    "        # Training arguments\n",
    "        training_args = TrainingArguments(\n",
    "            output_dir=f\"../../../ml_models/sentiment_model/iteration_{iteration}\",\n",
    "            evaluation_strategy=\"epoch\",\n",
    "            save_strategy=\"epoch\",\n",
    "            learning_rate=2e-5,\n",
    "            per_device_train_batch_size=16,\n",
    "            per_device_eval_batch_size=16,\n",
    "            num_train_epochs=3,\n",
    "            weight_decay=0.01,\n",
    "            logging_dir='./logs',\n",
    "            logging_steps=10,\n",
    "            load_best_model_at_end=True,\n",
    "        )\n",
    "        \n",
    "        # Train\n",
    "        trainer = Trainer(\n",
    "            model=model,\n",
    "            args=training_args,\n",
    "            train_dataset=train_dataset,\n",
    "            eval_dataset=test_dataset,\n",
    "            tokenizer=tokenizer,\n",
    "        )\n",
    "        \n",
    "        trainer.train()\n",
    "        \n",
    "        # Evaluate after each iteration\n",
    "        print(f\"\\nEvaluating iteration {iteration + 1}:\")\n",
    "        evaluate_model(model, test_dataset, [\"Negative\", \"Neutral\", \"Positive\"])\n",
    "    \n",
    "    return model"
   ]
  },
  {
   "cell_type": "code",
   "execution_count": 7,
   "metadata": {},
   "outputs": [],
   "source": [
    "def train_transformer_model(train_dataset, test_dataset, num_labels, output_dir):\n",
    "    model = AutoModelForSequenceClassification.from_pretrained(\"distilbert-base-uncased\", num_labels=num_labels)\n",
    "    iterations = 3\n",
    "\n",
    "    # Define training arguments\n",
    "    for x in range(iterations):\n",
    "      print(f\"\\nTraining iteration {x + 1}/{iterations}\")\n",
    "\n",
    "      training_args = TrainingArguments(\n",
    "          output_dir= f\"{output_dir}/iteration_{x}\",\n",
    "          evaluation_strategy=\"epoch\",\n",
    "          save_strategy=\"epoch\",\n",
    "          learning_rate=2e-5,\n",
    "          per_device_train_batch_size=16,\n",
    "          per_device_eval_batch_size=16,\n",
    "          num_train_epochs=3,\n",
    "          weight_decay=0.01,\n",
    "          logging_dir='./logs',\n",
    "          logging_steps=10,\n",
    "          load_best_model_at_end=True,\n",
    "      )\n",
    "\n",
    "      # Define Trainer\n",
    "      trainer = Trainer(\n",
    "          model=model,\n",
    "          args=training_args,\n",
    "          train_dataset=train_dataset,\n",
    "          eval_dataset=test_dataset,\n",
    "          tokenizer=tokenizer,\n",
    "      )\n",
    "\n",
    "      # Train the model\n",
    "      trainer.train()\n",
    "\n",
    "      # Evaluate after each iteration\n",
    "      print(f\"\\nEvaluating iteration {x + 1}:\")\n",
    "      evaluate_model(model, test_dataset2, [\"Low\", \"Medium\", \"High\"])\n",
    "\n",
    "    return model"
   ]
  },
  {
   "cell_type": "code",
   "execution_count": 8,
   "metadata": {},
   "outputs": [
    {
     "name": "stdout",
     "output_type": "stream",
     "text": [
      "Training Sentiment Model with multiple iterations...\n"
     ]
    },
    {
     "name": "stderr",
     "output_type": "stream",
     "text": [
      "Some weights of DistilBertForSequenceClassification were not initialized from the model checkpoint at distilbert-base-uncased and are newly initialized: ['classifier.bias', 'classifier.weight', 'pre_classifier.bias', 'pre_classifier.weight']\n",
      "You should probably TRAIN this model on a down-stream task to be able to use it for predictions and inference.\n",
      "a:\\PROJECTS\\Poseidon\\backend\\venv\\Lib\\site-packages\\transformers\\training_args.py:1568: FutureWarning: `evaluation_strategy` is deprecated and will be removed in version 4.46 of 🤗 Transformers. Use `eval_strategy` instead\n",
      "  warnings.warn(\n",
      "C:\\Users\\d-kin\\AppData\\Local\\Temp\\ipykernel_17852\\3620463509.py:51: FutureWarning: `tokenizer` is deprecated and will be removed in version 5.0.0 for `Trainer.__init__`. Use `processing_class` instead.\n",
      "  trainer = Trainer(\n"
     ]
    },
    {
     "name": "stdout",
     "output_type": "stream",
     "text": [
      "\n",
      "Training iteration 1/7\n"
     ]
    },
    {
     "name": "stderr",
     "output_type": "stream",
     "text": [
      "2024/11/26 23:04:20 WARNING mlflow.utils.git_utils: Failed to import Git (the Git executable is probably not on your PATH), so Git SHA is not available. Error: Failed to initialize: Bad git executable.\n",
      "The git executable must be specified in one of the following ways:\n",
      "    - be included in your $PATH\n",
      "    - be set via $GIT_PYTHON_GIT_EXECUTABLE\n",
      "    - explicitly set via git.refresh(<full-path-to-git-executable>)\n",
      "\n",
      "All git commands will error until this is rectified.\n",
      "\n",
      "This initial message can be silenced or aggravated in the future by setting the\n",
      "$GIT_PYTHON_REFRESH environment variable. Use one of the following values:\n",
      "    - quiet|q|silence|s|silent|none|n|0: for no message or exception\n",
      "    - warn|w|warning|log|l|1: for a warning message (logging level CRITICAL, displayed by default)\n",
      "    - error|e|exception|raise|r|2: for a raised exception\n",
      "\n",
      "Example:\n",
      "    export GIT_PYTHON_REFRESH=quiet\n",
      "\n"
     ]
    },
    {
     "data": {
      "application/vnd.jupyter.widget-view+json": {
       "model_id": "b562bb4df1f04a5492cc531af1ac8acd",
       "version_major": 2,
       "version_minor": 0
      },
      "text/plain": [
       "  0%|          | 0/111 [00:00<?, ?it/s]"
      ]
     },
     "metadata": {},
     "output_type": "display_data"
    },
    {
     "name": "stdout",
     "output_type": "stream",
     "text": [
      "{'loss': 1.0986, 'grad_norm': 1.4449398517608643, 'learning_rate': 1.81981981981982e-05, 'epoch': 0.27}\n",
      "{'loss': 1.0428, 'grad_norm': 2.855663537979126, 'learning_rate': 1.6396396396396396e-05, 'epoch': 0.54}\n",
      "{'loss': 0.976, 'grad_norm': 2.234049081802368, 'learning_rate': 1.4594594594594596e-05, 'epoch': 0.81}\n"
     ]
    },
    {
     "data": {
      "application/vnd.jupyter.widget-view+json": {
       "model_id": "c8b483dcb6c64d568e391ff2cd8b3327",
       "version_major": 2,
       "version_minor": 0
      },
      "text/plain": [
       "  0%|          | 0/10 [00:00<?, ?it/s]"
      ]
     },
     "metadata": {},
     "output_type": "display_data"
    },
    {
     "name": "stdout",
     "output_type": "stream",
     "text": [
      "{'eval_loss': 0.8398449420928955, 'eval_runtime': 11.9409, 'eval_samples_per_second': 12.311, 'eval_steps_per_second': 0.837, 'epoch': 1.0}\n",
      "{'loss': 0.833, 'grad_norm': 2.8458163738250732, 'learning_rate': 1.2792792792792795e-05, 'epoch': 1.08}\n",
      "{'loss': 0.792, 'grad_norm': 2.7884373664855957, 'learning_rate': 1.0990990990990992e-05, 'epoch': 1.35}\n",
      "{'loss': 0.6816, 'grad_norm': 3.45613169670105, 'learning_rate': 9.189189189189191e-06, 'epoch': 1.62}\n",
      "{'loss': 0.614, 'grad_norm': 3.946352243423462, 'learning_rate': 7.387387387387388e-06, 'epoch': 1.89}\n"
     ]
    },
    {
     "data": {
      "application/vnd.jupyter.widget-view+json": {
       "model_id": "a528364134714df69b8a46bff33592bf",
       "version_major": 2,
       "version_minor": 0
      },
      "text/plain": [
       "  0%|          | 0/10 [00:00<?, ?it/s]"
      ]
     },
     "metadata": {},
     "output_type": "display_data"
    },
    {
     "name": "stdout",
     "output_type": "stream",
     "text": [
      "{'eval_loss': 0.5445888638496399, 'eval_runtime': 12.6884, 'eval_samples_per_second': 11.585, 'eval_steps_per_second': 0.788, 'epoch': 2.0}\n",
      "{'loss': 0.5802, 'grad_norm': 5.3796000480651855, 'learning_rate': 5.585585585585585e-06, 'epoch': 2.16}\n",
      "{'loss': 0.4588, 'grad_norm': 2.85050106048584, 'learning_rate': 3.7837837837837844e-06, 'epoch': 2.43}\n",
      "{'loss': 0.535, 'grad_norm': 3.833515167236328, 'learning_rate': 1.9819819819819822e-06, 'epoch': 2.7}\n",
      "{'loss': 0.4924, 'grad_norm': 7.079802513122559, 'learning_rate': 1.801801801801802e-07, 'epoch': 2.97}\n"
     ]
    },
    {
     "data": {
      "application/vnd.jupyter.widget-view+json": {
       "model_id": "bd0ed4efa5f1488793198da8982b31b0",
       "version_major": 2,
       "version_minor": 0
      },
      "text/plain": [
       "  0%|          | 0/10 [00:00<?, ?it/s]"
      ]
     },
     "metadata": {},
     "output_type": "display_data"
    },
    {
     "name": "stdout",
     "output_type": "stream",
     "text": [
      "{'eval_loss': 0.49239280819892883, 'eval_runtime': 14.3608, 'eval_samples_per_second': 10.236, 'eval_steps_per_second': 0.696, 'epoch': 3.0}\n",
      "{'train_runtime': 553.2285, 'train_samples_per_second': 3.172, 'train_steps_per_second': 0.201, 'train_loss': 0.7343651195904156, 'epoch': 3.0}\n",
      "\n",
      "Evaluating iteration 1:\n"
     ]
    },
    {
     "name": "stderr",
     "output_type": "stream",
     "text": [
      "C:\\Users\\d-kin\\AppData\\Local\\Temp\\ipykernel_17852\\4139598668.py:2: FutureWarning: `tokenizer` is deprecated and will be removed in version 5.0.0 for `Trainer.__init__`. Use `processing_class` instead.\n",
      "  trainer = Trainer(model=model, tokenizer=tokenizer)\n"
     ]
    },
    {
     "data": {
      "application/vnd.jupyter.widget-view+json": {
       "model_id": "47e97ed22fdb4d08b9bdc4005d23bcd4",
       "version_major": 2,
       "version_minor": 0
      },
      "text/plain": [
       "  0%|          | 0/19 [00:00<?, ?it/s]"
      ]
     },
     "metadata": {},
     "output_type": "display_data"
    },
    {
     "name": "stdout",
     "output_type": "stream",
     "text": [
      "              precision    recall  f1-score   support\n",
      "\n",
      "    Negative       0.95      0.84      0.89        43\n",
      "     Neutral       0.88      0.83      0.85        53\n",
      "    Positive       0.75      0.86      0.80        51\n",
      "\n",
      "    accuracy                           0.84       147\n",
      "   macro avg       0.86      0.84      0.85       147\n",
      "weighted avg       0.85      0.84      0.85       147\n",
      "\n"
     ]
    },
    {
     "data": {
      "image/png": "[encoded data removed]",
      "text/plain": [
       "<Figure size 640x480 with 2 Axes>"
      ]
     },
     "metadata": {},
     "output_type": "display_data"
    },
    {
     "name": "stdout",
     "output_type": "stream",
     "text": [
      "\n",
      "Training iteration 2/7\n"
     ]
    },
    {
     "name": "stderr",
     "output_type": "stream",
     "text": [
      "a:\\PROJECTS\\Poseidon\\backend\\venv\\Lib\\site-packages\\transformers\\training_args.py:1568: FutureWarning: `evaluation_strategy` is deprecated and will be removed in version 4.46 of 🤗 Transformers. Use `eval_strategy` instead\n",
      "  warnings.warn(\n",
      "C:\\Users\\d-kin\\AppData\\Local\\Temp\\ipykernel_17852\\3620463509.py:51: FutureWarning: `tokenizer` is deprecated and will be removed in version 5.0.0 for `Trainer.__init__`. Use `processing_class` instead.\n",
      "  trainer = Trainer(\n"
     ]
    },
    {
     "data": {
      "application/vnd.jupyter.widget-view+json": {
       "model_id": "2ff3e0aab8924bab8bde061ae45fab12",
       "version_major": 2,
       "version_minor": 0
      },
      "text/plain": [
       "  0%|          | 0/111 [00:00<?, ?it/s]"
      ]
     },
     "metadata": {},
     "output_type": "display_data"
    },
    {
     "name": "stdout",
     "output_type": "stream",
     "text": [
      "{'loss': 0.4971, 'grad_norm': 4.525167942047119, 'learning_rate': 1.81981981981982e-05, 'epoch': 0.27}\n",
      "{'loss': 0.4856, 'grad_norm': 6.201104164123535, 'learning_rate': 1.6396396396396396e-05, 'epoch': 0.54}\n",
      "{'loss': 0.4408, 'grad_norm': 4.928798675537109, 'learning_rate': 1.4594594594594596e-05, 'epoch': 0.81}\n"
     ]
    },
    {
     "data": {
      "application/vnd.jupyter.widget-view+json": {
       "model_id": "cc2d1fec3c0b4fd5b2c888de28bacae2",
       "version_major": 2,
       "version_minor": 0
      },
      "text/plain": [
       "  0%|          | 0/10 [00:00<?, ?it/s]"
      ]
     },
     "metadata": {},
     "output_type": "display_data"
    },
    {
     "name": "stdout",
     "output_type": "stream",
     "text": [
      "{'eval_loss': 0.42089173197746277, 'eval_runtime': 11.3067, 'eval_samples_per_second': 13.001, 'eval_steps_per_second': 0.884, 'epoch': 1.0}\n",
      "{'loss': 0.4259, 'grad_norm': 4.892484664916992, 'learning_rate': 1.2792792792792795e-05, 'epoch': 1.08}\n",
      "{'loss': 0.3806, 'grad_norm': 6.381522178649902, 'learning_rate': 1.0990990990990992e-05, 'epoch': 1.35}\n",
      "{'loss': 0.3055, 'grad_norm': 6.219265937805176, 'learning_rate': 9.189189189189191e-06, 'epoch': 1.62}\n",
      "{'loss': 0.3295, 'grad_norm': 4.857372760772705, 'learning_rate': 7.387387387387388e-06, 'epoch': 1.89}\n"
     ]
    },
    {
     "data": {
      "application/vnd.jupyter.widget-view+json": {
       "model_id": "af00d280e5ac4b30a6c796bb11bad507",
       "version_major": 2,
       "version_minor": 0
      },
      "text/plain": [
       "  0%|          | 0/10 [00:00<?, ?it/s]"
      ]
     },
     "metadata": {},
     "output_type": "display_data"
    },
    {
     "name": "stdout",
     "output_type": "stream",
     "text": [
      "{'eval_loss': 0.3742810785770416, 'eval_runtime': 12.8334, 'eval_samples_per_second': 11.454, 'eval_steps_per_second': 0.779, 'epoch': 2.0}\n",
      "{'loss': 0.2234, 'grad_norm': 2.207893133163452, 'learning_rate': 5.585585585585585e-06, 'epoch': 2.16}\n",
      "{'loss': 0.2246, 'grad_norm': 4.247824668884277, 'learning_rate': 3.7837837837837844e-06, 'epoch': 2.43}\n",
      "{'loss': 0.2159, 'grad_norm': 15.62767219543457, 'learning_rate': 1.9819819819819822e-06, 'epoch': 2.7}\n",
      "{'loss': 0.2308, 'grad_norm': 2.203061103820801, 'learning_rate': 1.801801801801802e-07, 'epoch': 2.97}\n"
     ]
    },
    {
     "data": {
      "application/vnd.jupyter.widget-view+json": {
       "model_id": "a72e334c97d7438096b208e0e835a7ad",
       "version_major": 2,
       "version_minor": 0
      },
      "text/plain": [
       "  0%|          | 0/10 [00:00<?, ?it/s]"
      ]
     },
     "metadata": {},
     "output_type": "display_data"
    },
    {
     "name": "stdout",
     "output_type": "stream",
     "text": [
      "{'eval_loss': 0.3729916214942932, 'eval_runtime': 14.3308, 'eval_samples_per_second': 10.258, 'eval_steps_per_second': 0.698, 'epoch': 3.0}\n",
      "{'train_runtime': 551.6292, 'train_samples_per_second': 3.181, 'train_steps_per_second': 0.201, 'train_loss': 0.33962933652035826, 'epoch': 3.0}\n",
      "\n",
      "Evaluating iteration 2:\n"
     ]
    },
    {
     "name": "stderr",
     "output_type": "stream",
     "text": [
      "C:\\Users\\d-kin\\AppData\\Local\\Temp\\ipykernel_17852\\4139598668.py:2: FutureWarning: `tokenizer` is deprecated and will be removed in version 5.0.0 for `Trainer.__init__`. Use `processing_class` instead.\n",
      "  trainer = Trainer(model=model, tokenizer=tokenizer)\n"
     ]
    },
    {
     "data": {
      "application/vnd.jupyter.widget-view+json": {
       "model_id": "ee9058b5746d4cbf881fe5e2bbb53ebb",
       "version_major": 2,
       "version_minor": 0
      },
      "text/plain": [
       "  0%|          | 0/19 [00:00<?, ?it/s]"
      ]
     },
     "metadata": {},
     "output_type": "display_data"
    },
    {
     "name": "stdout",
     "output_type": "stream",
     "text": [
      "              precision    recall  f1-score   support\n",
      "\n",
      "    Negative       0.87      0.82      0.85        40\n",
      "     Neutral       0.84      0.88      0.86        41\n",
      "    Positive       0.85      0.85      0.85        66\n",
      "\n",
      "    accuracy                           0.85       147\n",
      "   macro avg       0.85      0.85      0.85       147\n",
      "weighted avg       0.85      0.85      0.85       147\n",
      "\n"
     ]
    },
    {
     "data": {
      "image/png": "[encoded data removed]",
      "text/plain": [
       "<Figure size 640x480 with 2 Axes>"
      ]
     },
     "metadata": {},
     "output_type": "display_data"
    },
    {
     "name": "stdout",
     "output_type": "stream",
     "text": [
      "\n",
      "Training iteration 3/7\n"
     ]
    },
    {
     "name": "stderr",
     "output_type": "stream",
     "text": [
      "a:\\PROJECTS\\Poseidon\\backend\\venv\\Lib\\site-packages\\transformers\\training_args.py:1568: FutureWarning: `evaluation_strategy` is deprecated and will be removed in version 4.46 of 🤗 Transformers. Use `eval_strategy` instead\n",
      "  warnings.warn(\n",
      "C:\\Users\\d-kin\\AppData\\Local\\Temp\\ipykernel_17852\\3620463509.py:51: FutureWarning: `tokenizer` is deprecated and will be removed in version 5.0.0 for `Trainer.__init__`. Use `processing_class` instead.\n",
      "  trainer = Trainer(\n"
     ]
    },
    {
     "data": {
      "application/vnd.jupyter.widget-view+json": {
       "model_id": "4168bc274e1e49159249a914b190178c",
       "version_major": 2,
       "version_minor": 0
      },
      "text/plain": [
       "  0%|          | 0/111 [00:00<?, ?it/s]"
      ]
     },
     "metadata": {},
     "output_type": "display_data"
    },
    {
     "name": "stdout",
     "output_type": "stream",
     "text": [
      "{'loss': 0.348, 'grad_norm': 16.52189826965332, 'learning_rate': 1.81981981981982e-05, 'epoch': 0.27}\n",
      "{'loss': 0.3858, 'grad_norm': 6.36106538772583, 'learning_rate': 1.6396396396396396e-05, 'epoch': 0.54}\n",
      "{'loss': 0.5547, 'grad_norm': 4.243222236633301, 'learning_rate': 1.4594594594594596e-05, 'epoch': 0.81}\n"
     ]
    },
    {
     "data": {
      "application/vnd.jupyter.widget-view+json": {
       "model_id": "b463ca82f4a640b28ac1ae354d5124bd",
       "version_major": 2,
       "version_minor": 0
      },
      "text/plain": [
       "  0%|          | 0/10 [00:00<?, ?it/s]"
      ]
     },
     "metadata": {},
     "output_type": "display_data"
    },
    {
     "name": "stdout",
     "output_type": "stream",
     "text": [
      "{'eval_loss': 0.3887569308280945, 'eval_runtime': 14.2425, 'eval_samples_per_second': 10.321, 'eval_steps_per_second': 0.702, 'epoch': 1.0}\n",
      "{'loss': 0.3052, 'grad_norm': 8.245262145996094, 'learning_rate': 1.2792792792792795e-05, 'epoch': 1.08}\n",
      "{'loss': 0.3154, 'grad_norm': 3.822345733642578, 'learning_rate': 1.0990990990990992e-05, 'epoch': 1.35}\n",
      "{'loss': 0.1791, 'grad_norm': 5.905667781829834, 'learning_rate': 9.189189189189191e-06, 'epoch': 1.62}\n",
      "{'loss': 0.249, 'grad_norm': 8.37010383605957, 'learning_rate': 7.387387387387388e-06, 'epoch': 1.89}\n"
     ]
    },
    {
     "data": {
      "application/vnd.jupyter.widget-view+json": {
       "model_id": "dfb5e40255124530b241179c4b2d1b53",
       "version_major": 2,
       "version_minor": 0
      },
      "text/plain": [
       "  0%|          | 0/10 [00:00<?, ?it/s]"
      ]
     },
     "metadata": {},
     "output_type": "display_data"
    },
    {
     "name": "stdout",
     "output_type": "stream",
     "text": [
      "{'eval_loss': 0.36836352944374084, 'eval_runtime': 12.6669, 'eval_samples_per_second': 11.605, 'eval_steps_per_second': 0.789, 'epoch': 2.0}\n",
      "{'loss': 0.2318, 'grad_norm': 7.8680500984191895, 'learning_rate': 5.585585585585585e-06, 'epoch': 2.16}\n",
      "{'loss': 0.211, 'grad_norm': 12.597262382507324, 'learning_rate': 3.7837837837837844e-06, 'epoch': 2.43}\n",
      "{'loss': 0.229, 'grad_norm': 4.627846717834473, 'learning_rate': 1.9819819819819822e-06, 'epoch': 2.7}\n",
      "{'loss': 0.1597, 'grad_norm': 2.073040246963501, 'learning_rate': 1.801801801801802e-07, 'epoch': 2.97}\n"
     ]
    },
    {
     "data": {
      "application/vnd.jupyter.widget-view+json": {
       "model_id": "a3590c5a83774cf58205b0dd405053fc",
       "version_major": 2,
       "version_minor": 0
      },
      "text/plain": [
       "  0%|          | 0/10 [00:00<?, ?it/s]"
      ]
     },
     "metadata": {},
     "output_type": "display_data"
    },
    {
     "name": "stdout",
     "output_type": "stream",
     "text": [
      "{'eval_loss': 0.3824954926967621, 'eval_runtime': 13.6897, 'eval_samples_per_second': 10.738, 'eval_steps_per_second': 0.73, 'epoch': 3.0}\n",
      "{'train_runtime': 566.0795, 'train_samples_per_second': 3.1, 'train_steps_per_second': 0.196, 'train_loss': 0.2862285158118686, 'epoch': 3.0}\n",
      "\n",
      "Evaluating iteration 3:\n"
     ]
    },
    {
     "name": "stderr",
     "output_type": "stream",
     "text": [
      "C:\\Users\\d-kin\\AppData\\Local\\Temp\\ipykernel_17852\\4139598668.py:2: FutureWarning: `tokenizer` is deprecated and will be removed in version 5.0.0 for `Trainer.__init__`. Use `processing_class` instead.\n",
      "  trainer = Trainer(model=model, tokenizer=tokenizer)\n"
     ]
    },
    {
     "data": {
      "application/vnd.jupyter.widget-view+json": {
       "model_id": "ea3c936d9aab43e7a3fc1705ded64f61",
       "version_major": 2,
       "version_minor": 0
      },
      "text/plain": [
       "  0%|          | 0/19 [00:00<?, ?it/s]"
      ]
     },
     "metadata": {},
     "output_type": "display_data"
    },
    {
     "name": "stdout",
     "output_type": "stream",
     "text": [
      "              precision    recall  f1-score   support\n",
      "\n",
      "    Negative       0.90      0.90      0.90        48\n",
      "     Neutral       0.83      0.85      0.84        34\n",
      "    Positive       0.89      0.88      0.88        65\n",
      "\n",
      "    accuracy                           0.88       147\n",
      "   macro avg       0.87      0.88      0.87       147\n",
      "weighted avg       0.88      0.88      0.88       147\n",
      "\n"
     ]
    },
    {
     "data": {
      "image/png": "[encoded data removed]",
      "text/plain": [
       "<Figure size 640x480 with 2 Axes>"
      ]
     },
     "metadata": {},
     "output_type": "display_data"
    },
    {
     "name": "stdout",
     "output_type": "stream",
     "text": [
      "\n",
      "Training iteration 4/7\n"
     ]
    },
    {
     "name": "stderr",
     "output_type": "stream",
     "text": [
      "a:\\PROJECTS\\Poseidon\\backend\\venv\\Lib\\site-packages\\transformers\\training_args.py:1568: FutureWarning: `evaluation_strategy` is deprecated and will be removed in version 4.46 of 🤗 Transformers. Use `eval_strategy` instead\n",
      "  warnings.warn(\n",
      "C:\\Users\\d-kin\\AppData\\Local\\Temp\\ipykernel_17852\\3620463509.py:51: FutureWarning: `tokenizer` is deprecated and will be removed in version 5.0.0 for `Trainer.__init__`. Use `processing_class` instead.\n",
      "  trainer = Trainer(\n"
     ]
    },
    {
     "data": {
      "application/vnd.jupyter.widget-view+json": {
       "model_id": "d4886451dacc46c497d7cf71203e4a74",
       "version_major": 2,
       "version_minor": 0
      },
      "text/plain": [
       "  0%|          | 0/111 [00:00<?, ?it/s]"
      ]
     },
     "metadata": {},
     "output_type": "display_data"
    },
    {
     "name": "stdout",
     "output_type": "stream",
     "text": [
      "{'loss': 0.3377, 'grad_norm': 6.165856838226318, 'learning_rate': 1.81981981981982e-05, 'epoch': 0.27}\n",
      "{'loss': 0.4711, 'grad_norm': 7.449428081512451, 'learning_rate': 1.6396396396396396e-05, 'epoch': 0.54}\n",
      "{'loss': 0.5121, 'grad_norm': 17.23610496520996, 'learning_rate': 1.4594594594594596e-05, 'epoch': 0.81}\n"
     ]
    },
    {
     "data": {
      "application/vnd.jupyter.widget-view+json": {
       "model_id": "0d9727dc240246b0a1a259adbf35eeca",
       "version_major": 2,
       "version_minor": 0
      },
      "text/plain": [
       "  0%|          | 0/10 [00:00<?, ?it/s]"
      ]
     },
     "metadata": {},
     "output_type": "display_data"
    },
    {
     "name": "stdout",
     "output_type": "stream",
     "text": [
      "{'eval_loss': 0.4019794464111328, 'eval_runtime': 12.3836, 'eval_samples_per_second': 11.871, 'eval_steps_per_second': 0.808, 'epoch': 1.0}\n",
      "{'loss': 0.3115, 'grad_norm': 4.869931221008301, 'learning_rate': 1.2792792792792795e-05, 'epoch': 1.08}\n",
      "{'loss': 0.3108, 'grad_norm': 33.29395294189453, 'learning_rate': 1.0990990990990992e-05, 'epoch': 1.35}\n",
      "{'loss': 0.2976, 'grad_norm': 4.812556266784668, 'learning_rate': 9.189189189189191e-06, 'epoch': 1.62}\n",
      "{'loss': 0.3472, 'grad_norm': 4.0531768798828125, 'learning_rate': 7.387387387387388e-06, 'epoch': 1.89}\n"
     ]
    },
    {
     "data": {
      "application/vnd.jupyter.widget-view+json": {
       "model_id": "03ee00808f7e47ec9a4e86b1a49d1d29",
       "version_major": 2,
       "version_minor": 0
      },
      "text/plain": [
       "  0%|          | 0/10 [00:00<?, ?it/s]"
      ]
     },
     "metadata": {},
     "output_type": "display_data"
    },
    {
     "name": "stdout",
     "output_type": "stream",
     "text": [
      "{'eval_loss': 0.40684646368026733, 'eval_runtime': 12.1882, 'eval_samples_per_second': 12.061, 'eval_steps_per_second': 0.82, 'epoch': 2.0}\n",
      "{'loss': 0.2262, 'grad_norm': 6.510777950286865, 'learning_rate': 5.585585585585585e-06, 'epoch': 2.16}\n",
      "{'loss': 0.1812, 'grad_norm': 2.929567575454712, 'learning_rate': 3.7837837837837844e-06, 'epoch': 2.43}\n",
      "{'loss': 0.2392, 'grad_norm': 1.5125101804733276, 'learning_rate': 1.9819819819819822e-06, 'epoch': 2.7}\n",
      "{'loss': 0.1521, 'grad_norm': 3.128195285797119, 'learning_rate': 1.801801801801802e-07, 'epoch': 2.97}\n"
     ]
    },
    {
     "data": {
      "application/vnd.jupyter.widget-view+json": {
       "model_id": "4c39a5df28b240d18880e2c4de7fa646",
       "version_major": 2,
       "version_minor": 0
      },
      "text/plain": [
       "  0%|          | 0/10 [00:00<?, ?it/s]"
      ]
     },
     "metadata": {},
     "output_type": "display_data"
    },
    {
     "name": "stdout",
     "output_type": "stream",
     "text": [
      "{'eval_loss': 0.4137595295906067, 'eval_runtime': 14.1398, 'eval_samples_per_second': 10.396, 'eval_steps_per_second': 0.707, 'epoch': 3.0}\n",
      "{'train_runtime': 543.2254, 'train_samples_per_second': 3.231, 'train_steps_per_second': 0.204, 'train_loss': 0.30585677089454893, 'epoch': 3.0}\n",
      "\n",
      "Evaluating iteration 4:\n"
     ]
    },
    {
     "name": "stderr",
     "output_type": "stream",
     "text": [
      "C:\\Users\\d-kin\\AppData\\Local\\Temp\\ipykernel_17852\\4139598668.py:2: FutureWarning: `tokenizer` is deprecated and will be removed in version 5.0.0 for `Trainer.__init__`. Use `processing_class` instead.\n",
      "  trainer = Trainer(model=model, tokenizer=tokenizer)\n"
     ]
    },
    {
     "data": {
      "application/vnd.jupyter.widget-view+json": {
       "model_id": "b110a955bacd4873a68a2be5c3c92c27",
       "version_major": 2,
       "version_minor": 0
      },
      "text/plain": [
       "  0%|          | 0/19 [00:00<?, ?it/s]"
      ]
     },
     "metadata": {},
     "output_type": "display_data"
    },
    {
     "name": "stdout",
     "output_type": "stream",
     "text": [
      "              precision    recall  f1-score   support\n",
      "\n",
      "    Negative       0.83      0.83      0.83        48\n",
      "     Neutral       0.89      0.80      0.84        30\n",
      "    Positive       0.85      0.88      0.87        69\n",
      "\n",
      "    accuracy                           0.85       147\n",
      "   macro avg       0.86      0.84      0.85       147\n",
      "weighted avg       0.85      0.85      0.85       147\n",
      "\n"
     ]
    },
    {
     "data": {
      "image/png": "[encoded data removed]",
      "text/plain": [
       "<Figure size 640x480 with 2 Axes>"
      ]
     },
     "metadata": {},
     "output_type": "display_data"
    },
    {
     "name": "stdout",
     "output_type": "stream",
     "text": [
      "\n",
      "Training iteration 5/7\n"
     ]
    },
    {
     "name": "stderr",
     "output_type": "stream",
     "text": [
      "a:\\PROJECTS\\Poseidon\\backend\\venv\\Lib\\site-packages\\transformers\\training_args.py:1568: FutureWarning: `evaluation_strategy` is deprecated and will be removed in version 4.46 of 🤗 Transformers. Use `eval_strategy` instead\n",
      "  warnings.warn(\n",
      "C:\\Users\\d-kin\\AppData\\Local\\Temp\\ipykernel_17852\\3620463509.py:51: FutureWarning: `tokenizer` is deprecated and will be removed in version 5.0.0 for `Trainer.__init__`. Use `processing_class` instead.\n",
      "  trainer = Trainer(\n"
     ]
    },
    {
     "data": {
      "application/vnd.jupyter.widget-view+json": {
       "model_id": "905249084015463a9f9e8fd95743ac27",
       "version_major": 2,
       "version_minor": 0
      },
      "text/plain": [
       "  0%|          | 0/111 [00:00<?, ?it/s]"
      ]
     },
     "metadata": {},
     "output_type": "display_data"
    },
    {
     "name": "stdout",
     "output_type": "stream",
     "text": [
      "{'loss': 0.442, 'grad_norm': 7.120460033416748, 'learning_rate': 1.81981981981982e-05, 'epoch': 0.27}\n",
      "{'loss': 0.3422, 'grad_norm': 8.277576446533203, 'learning_rate': 1.6396396396396396e-05, 'epoch': 0.54}\n",
      "{'loss': 0.3773, 'grad_norm': 7.499019622802734, 'learning_rate': 1.4594594594594596e-05, 'epoch': 0.81}\n"
     ]
    },
    {
     "data": {
      "application/vnd.jupyter.widget-view+json": {
       "model_id": "60357abc56194334a820c6d36cbfa93c",
       "version_major": 2,
       "version_minor": 0
      },
      "text/plain": [
       "  0%|          | 0/10 [00:00<?, ?it/s]"
      ]
     },
     "metadata": {},
     "output_type": "display_data"
    },
    {
     "name": "stdout",
     "output_type": "stream",
     "text": [
      "{'eval_loss': 0.38385239243507385, 'eval_runtime': 11.3119, 'eval_samples_per_second': 12.995, 'eval_steps_per_second': 0.884, 'epoch': 1.0}\n",
      "{'loss': 0.3549, 'grad_norm': 3.2765045166015625, 'learning_rate': 1.2792792792792795e-05, 'epoch': 1.08}\n",
      "{'loss': 0.231, 'grad_norm': 10.607681274414062, 'learning_rate': 1.0990990990990992e-05, 'epoch': 1.35}\n",
      "{'loss': 0.2553, 'grad_norm': 4.757338523864746, 'learning_rate': 9.189189189189191e-06, 'epoch': 1.62}\n",
      "{'loss': 0.1746, 'grad_norm': 2.597900390625, 'learning_rate': 7.387387387387388e-06, 'epoch': 1.89}\n"
     ]
    },
    {
     "data": {
      "application/vnd.jupyter.widget-view+json": {
       "model_id": "82ff785e7ef0472295de166b741e6203",
       "version_major": 2,
       "version_minor": 0
      },
      "text/plain": [
       "  0%|          | 0/10 [00:00<?, ?it/s]"
      ]
     },
     "metadata": {},
     "output_type": "display_data"
    },
    {
     "name": "stdout",
     "output_type": "stream",
     "text": [
      "{'eval_loss': 0.3921484649181366, 'eval_runtime': 11.7065, 'eval_samples_per_second': 12.557, 'eval_steps_per_second': 0.854, 'epoch': 2.0}\n",
      "{'loss': 0.1521, 'grad_norm': 2.4684882164001465, 'learning_rate': 5.585585585585585e-06, 'epoch': 2.16}\n",
      "{'loss': 0.1223, 'grad_norm': 1.9593234062194824, 'learning_rate': 3.7837837837837844e-06, 'epoch': 2.43}\n",
      "{'loss': 0.1709, 'grad_norm': 1.6008294820785522, 'learning_rate': 1.9819819819819822e-06, 'epoch': 2.7}\n",
      "{'loss': 0.157, 'grad_norm': 3.936708450317383, 'learning_rate': 1.801801801801802e-07, 'epoch': 2.97}\n"
     ]
    },
    {
     "data": {
      "application/vnd.jupyter.widget-view+json": {
       "model_id": "650923b541e74be48e1ff115fd213280",
       "version_major": 2,
       "version_minor": 0
      },
      "text/plain": [
       "  0%|          | 0/10 [00:00<?, ?it/s]"
      ]
     },
     "metadata": {},
     "output_type": "display_data"
    },
    {
     "name": "stdout",
     "output_type": "stream",
     "text": [
      "{'eval_loss': 0.4105428159236908, 'eval_runtime': 13.7675, 'eval_samples_per_second': 10.677, 'eval_steps_per_second': 0.726, 'epoch': 3.0}\n",
      "{'train_runtime': 524.5446, 'train_samples_per_second': 3.346, 'train_steps_per_second': 0.212, 'train_loss': 0.2547914750941165, 'epoch': 3.0}\n",
      "\n",
      "Evaluating iteration 5:\n"
     ]
    },
    {
     "name": "stderr",
     "output_type": "stream",
     "text": [
      "C:\\Users\\d-kin\\AppData\\Local\\Temp\\ipykernel_17852\\4139598668.py:2: FutureWarning: `tokenizer` is deprecated and will be removed in version 5.0.0 for `Trainer.__init__`. Use `processing_class` instead.\n",
      "  trainer = Trainer(model=model, tokenizer=tokenizer)\n"
     ]
    },
    {
     "data": {
      "application/vnd.jupyter.widget-view+json": {
       "model_id": "637c067895be4ed9a8f0f5029ba94f6b",
       "version_major": 2,
       "version_minor": 0
      },
      "text/plain": [
       "  0%|          | 0/19 [00:00<?, ?it/s]"
      ]
     },
     "metadata": {},
     "output_type": "display_data"
    },
    {
     "name": "stdout",
     "output_type": "stream",
     "text": [
      "              precision    recall  f1-score   support\n",
      "\n",
      "    Negative       0.79      0.90      0.84        50\n",
      "     Neutral       0.87      0.87      0.87        45\n",
      "    Positive       0.84      0.73      0.78        52\n",
      "\n",
      "    accuracy                           0.83       147\n",
      "   macro avg       0.83      0.83      0.83       147\n",
      "weighted avg       0.83      0.83      0.83       147\n",
      "\n"
     ]
    },
    {
     "data": {
      "image/png": "[encoded data removed]",
      "text/plain": [
       "<Figure size 640x480 with 2 Axes>"
      ]
     },
     "metadata": {},
     "output_type": "display_data"
    },
    {
     "name": "stdout",
     "output_type": "stream",
     "text": [
      "\n",
      "Training iteration 6/7\n"
     ]
    },
    {
     "name": "stderr",
     "output_type": "stream",
     "text": [
      "a:\\PROJECTS\\Poseidon\\backend\\venv\\Lib\\site-packages\\transformers\\training_args.py:1568: FutureWarning: `evaluation_strategy` is deprecated and will be removed in version 4.46 of 🤗 Transformers. Use `eval_strategy` instead\n",
      "  warnings.warn(\n",
      "C:\\Users\\d-kin\\AppData\\Local\\Temp\\ipykernel_17852\\3620463509.py:51: FutureWarning: `tokenizer` is deprecated and will be removed in version 5.0.0 for `Trainer.__init__`. Use `processing_class` instead.\n",
      "  trainer = Trainer(\n"
     ]
    },
    {
     "data": {
      "application/vnd.jupyter.widget-view+json": {
       "model_id": "30e1e21590894e529d5afaa0a5d8f5e2",
       "version_major": 2,
       "version_minor": 0
      },
      "text/plain": [
       "  0%|          | 0/111 [00:00<?, ?it/s]"
      ]
     },
     "metadata": {},
     "output_type": "display_data"
    },
    {
     "name": "stdout",
     "output_type": "stream",
     "text": [
      "{'loss': 0.4972, 'grad_norm': 5.007477283477783, 'learning_rate': 1.81981981981982e-05, 'epoch': 0.27}\n",
      "{'loss': 0.4192, 'grad_norm': 6.218607425689697, 'learning_rate': 1.6396396396396396e-05, 'epoch': 0.54}\n",
      "{'loss': 0.3736, 'grad_norm': 2.740583896636963, 'learning_rate': 1.4594594594594596e-05, 'epoch': 0.81}\n"
     ]
    },
    {
     "data": {
      "application/vnd.jupyter.widget-view+json": {
       "model_id": "731b2b51354d4d758a9848e4dd9eaef9",
       "version_major": 2,
       "version_minor": 0
      },
      "text/plain": [
       "  0%|          | 0/10 [00:00<?, ?it/s]"
      ]
     },
     "metadata": {},
     "output_type": "display_data"
    },
    {
     "name": "stdout",
     "output_type": "stream",
     "text": [
      "{'eval_loss': 0.477904349565506, 'eval_runtime': 11.8383, 'eval_samples_per_second': 12.417, 'eval_steps_per_second': 0.845, 'epoch': 1.0}\n",
      "{'loss': 0.292, 'grad_norm': 8.613516807556152, 'learning_rate': 1.2792792792792795e-05, 'epoch': 1.08}\n",
      "{'loss': 0.2502, 'grad_norm': 3.860565662384033, 'learning_rate': 1.0990990990990992e-05, 'epoch': 1.35}\n",
      "{'loss': 0.2945, 'grad_norm': 7.322945594787598, 'learning_rate': 9.189189189189191e-06, 'epoch': 1.62}\n",
      "{'loss': 0.2849, 'grad_norm': 8.168835639953613, 'learning_rate': 7.387387387387388e-06, 'epoch': 1.89}\n"
     ]
    },
    {
     "data": {
      "application/vnd.jupyter.widget-view+json": {
       "model_id": "35bc5722b92049f284bc399ca058c4ed",
       "version_major": 2,
       "version_minor": 0
      },
      "text/plain": [
       "  0%|          | 0/10 [00:00<?, ?it/s]"
      ]
     },
     "metadata": {},
     "output_type": "display_data"
    },
    {
     "name": "stdout",
     "output_type": "stream",
     "text": [
      "{'eval_loss': 0.44796180725097656, 'eval_runtime': 11.6157, 'eval_samples_per_second': 12.655, 'eval_steps_per_second': 0.861, 'epoch': 2.0}\n",
      "{'loss': 0.3181, 'grad_norm': 1.776207447052002, 'learning_rate': 5.585585585585585e-06, 'epoch': 2.16}\n",
      "{'loss': 0.2584, 'grad_norm': 10.27812671661377, 'learning_rate': 3.7837837837837844e-06, 'epoch': 2.43}\n",
      "{'loss': 0.19, 'grad_norm': 0.7602821588516235, 'learning_rate': 1.9819819819819822e-06, 'epoch': 2.7}\n",
      "{'loss': 0.1191, 'grad_norm': 6.318244934082031, 'learning_rate': 1.801801801801802e-07, 'epoch': 2.97}\n"
     ]
    },
    {
     "data": {
      "application/vnd.jupyter.widget-view+json": {
       "model_id": "47c97beea7c1458588a1dc3338c217a7",
       "version_major": 2,
       "version_minor": 0
      },
      "text/plain": [
       "  0%|          | 0/10 [00:00<?, ?it/s]"
      ]
     },
     "metadata": {},
     "output_type": "display_data"
    },
    {
     "name": "stdout",
     "output_type": "stream",
     "text": [
      "{'eval_loss': 0.45378223061561584, 'eval_runtime': 13.8547, 'eval_samples_per_second': 10.61, 'eval_steps_per_second': 0.722, 'epoch': 3.0}\n",
      "{'train_runtime': 520.8916, 'train_samples_per_second': 3.369, 'train_steps_per_second': 0.213, 'train_loss': 0.30156536897023517, 'epoch': 3.0}\n",
      "\n",
      "Evaluating iteration 6:\n"
     ]
    },
    {
     "name": "stderr",
     "output_type": "stream",
     "text": [
      "C:\\Users\\d-kin\\AppData\\Local\\Temp\\ipykernel_17852\\4139598668.py:2: FutureWarning: `tokenizer` is deprecated and will be removed in version 5.0.0 for `Trainer.__init__`. Use `processing_class` instead.\n",
      "  trainer = Trainer(model=model, tokenizer=tokenizer)\n"
     ]
    },
    {
     "data": {
      "application/vnd.jupyter.widget-view+json": {
       "model_id": "55a2ec83c58446219b2bd4cc3c7e8912",
       "version_major": 2,
       "version_minor": 0
      },
      "text/plain": [
       "  0%|          | 0/19 [00:00<?, ?it/s]"
      ]
     },
     "metadata": {},
     "output_type": "display_data"
    },
    {
     "name": "stdout",
     "output_type": "stream",
     "text": [
      "              precision    recall  f1-score   support\n",
      "\n",
      "    Negative       0.85      0.80      0.82        49\n",
      "     Neutral       0.83      0.83      0.83        41\n",
      "    Positive       0.82      0.86      0.84        57\n",
      "\n",
      "    accuracy                           0.83       147\n",
      "   macro avg       0.83      0.83      0.83       147\n",
      "weighted avg       0.83      0.83      0.83       147\n",
      "\n"
     ]
    },
    {
     "data": {
      "image/png": "[encoded data removed]",
      "text/plain": [
       "<Figure size 640x480 with 2 Axes>"
      ]
     },
     "metadata": {},
     "output_type": "display_data"
    },
    {
     "name": "stdout",
     "output_type": "stream",
     "text": [
      "\n",
      "Training iteration 7/7\n"
     ]
    },
    {
     "name": "stderr",
     "output_type": "stream",
     "text": [
      "a:\\PROJECTS\\Poseidon\\backend\\venv\\Lib\\site-packages\\transformers\\training_args.py:1568: FutureWarning: `evaluation_strategy` is deprecated and will be removed in version 4.46 of 🤗 Transformers. Use `eval_strategy` instead\n",
      "  warnings.warn(\n",
      "C:\\Users\\d-kin\\AppData\\Local\\Temp\\ipykernel_17852\\3620463509.py:51: FutureWarning: `tokenizer` is deprecated and will be removed in version 5.0.0 for `Trainer.__init__`. Use `processing_class` instead.\n",
      "  trainer = Trainer(\n"
     ]
    },
    {
     "data": {
      "application/vnd.jupyter.widget-view+json": {
       "model_id": "17772e750b484144bbe117375084d2a8",
       "version_major": 2,
       "version_minor": 0
      },
      "text/plain": [
       "  0%|          | 0/111 [00:00<?, ?it/s]"
      ]
     },
     "metadata": {},
     "output_type": "display_data"
    },
    {
     "name": "stdout",
     "output_type": "stream",
     "text": [
      "{'loss': 0.3843, 'grad_norm': 4.650752544403076, 'learning_rate': 1.81981981981982e-05, 'epoch': 0.27}\n",
      "{'loss': 0.388, 'grad_norm': 8.53777027130127, 'learning_rate': 1.6396396396396396e-05, 'epoch': 0.54}\n",
      "{'loss': 0.2684, 'grad_norm': 14.33199405670166, 'learning_rate': 1.4594594594594596e-05, 'epoch': 0.81}\n"
     ]
    },
    {
     "data": {
      "application/vnd.jupyter.widget-view+json": {
       "model_id": "85cde560c07d4b24a20d139ba0c944c5",
       "version_major": 2,
       "version_minor": 0
      },
      "text/plain": [
       "  0%|          | 0/10 [00:00<?, ?it/s]"
      ]
     },
     "metadata": {},
     "output_type": "display_data"
    },
    {
     "name": "stdout",
     "output_type": "stream",
     "text": [
      "{'eval_loss': 0.4569149315357208, 'eval_runtime': 11.3201, 'eval_samples_per_second': 12.986, 'eval_steps_per_second': 0.883, 'epoch': 1.0}\n",
      "{'loss': 0.395, 'grad_norm': 9.032825469970703, 'learning_rate': 1.2792792792792795e-05, 'epoch': 1.08}\n",
      "{'loss': 0.2502, 'grad_norm': 4.498551368713379, 'learning_rate': 1.0990990990990992e-05, 'epoch': 1.35}\n",
      "{'loss': 0.1317, 'grad_norm': 6.192208766937256, 'learning_rate': 9.189189189189191e-06, 'epoch': 1.62}\n",
      "{'loss': 0.1412, 'grad_norm': 5.153204917907715, 'learning_rate': 7.387387387387388e-06, 'epoch': 1.89}\n"
     ]
    },
    {
     "data": {
      "application/vnd.jupyter.widget-view+json": {
       "model_id": "ff2d5abce51f4671b9f9f798030d1bde",
       "version_major": 2,
       "version_minor": 0
      },
      "text/plain": [
       "  0%|          | 0/10 [00:00<?, ?it/s]"
      ]
     },
     "metadata": {},
     "output_type": "display_data"
    },
    {
     "name": "stdout",
     "output_type": "stream",
     "text": [
      "{'eval_loss': 0.4710348844528198, 'eval_runtime': 11.4461, 'eval_samples_per_second': 12.843, 'eval_steps_per_second': 0.874, 'epoch': 2.0}\n",
      "{'loss': 0.1255, 'grad_norm': 3.9662110805511475, 'learning_rate': 5.585585585585585e-06, 'epoch': 2.16}\n",
      "{'loss': 0.1113, 'grad_norm': 6.376924514770508, 'learning_rate': 3.7837837837837844e-06, 'epoch': 2.43}\n",
      "{'loss': 0.1185, 'grad_norm': 8.228323936462402, 'learning_rate': 1.9819819819819822e-06, 'epoch': 2.7}\n",
      "{'loss': 0.1165, 'grad_norm': 1.56192147731781, 'learning_rate': 1.801801801801802e-07, 'epoch': 2.97}\n"
     ]
    },
    {
     "data": {
      "application/vnd.jupyter.widget-view+json": {
       "model_id": "e3f63a1a7b6742d9939404b840d670a8",
       "version_major": 2,
       "version_minor": 0
      },
      "text/plain": [
       "  0%|          | 0/10 [00:00<?, ?it/s]"
      ]
     },
     "metadata": {},
     "output_type": "display_data"
    },
    {
     "name": "stdout",
     "output_type": "stream",
     "text": [
      "{'eval_loss': 0.47242602705955505, 'eval_runtime': 14.0012, 'eval_samples_per_second': 10.499, 'eval_steps_per_second': 0.714, 'epoch': 3.0}\n",
      "{'train_runtime': 516.3757, 'train_samples_per_second': 3.399, 'train_steps_per_second': 0.215, 'train_loss': 0.21915371133736125, 'epoch': 3.0}\n",
      "\n",
      "Evaluating iteration 7:\n"
     ]
    },
    {
     "name": "stderr",
     "output_type": "stream",
     "text": [
      "C:\\Users\\d-kin\\AppData\\Local\\Temp\\ipykernel_17852\\4139598668.py:2: FutureWarning: `tokenizer` is deprecated and will be removed in version 5.0.0 for `Trainer.__init__`. Use `processing_class` instead.\n",
      "  trainer = Trainer(model=model, tokenizer=tokenizer)\n"
     ]
    },
    {
     "data": {
      "application/vnd.jupyter.widget-view+json": {
       "model_id": "b420148129bb4c4398dcfa6225776d06",
       "version_major": 2,
       "version_minor": 0
      },
      "text/plain": [
       "  0%|          | 0/19 [00:00<?, ?it/s]"
      ]
     },
     "metadata": {},
     "output_type": "display_data"
    },
    {
     "name": "stdout",
     "output_type": "stream",
     "text": [
      "              precision    recall  f1-score   support\n",
      "\n",
      "    Negative       0.81      0.94      0.87        32\n",
      "     Neutral       0.86      0.82      0.84        45\n",
      "    Positive       0.87      0.83      0.85        70\n",
      "\n",
      "    accuracy                           0.85       147\n",
      "   macro avg       0.85      0.86      0.85       147\n",
      "weighted avg       0.85      0.85      0.85       147\n",
      "\n"
     ]
    },
    {
     "data": {
      "image/png": "[encoded data removed]",
      "text/plain": [
       "<Figure size 640x480 with 2 Axes>"
      ]
     },
     "metadata": {},
     "output_type": "display_data"
    },
    {
     "name": "stdout",
     "output_type": "stream",
     "text": [
      "\n",
      "Training Engagement Model...\n"
     ]
    },
    {
     "name": "stderr",
     "output_type": "stream",
     "text": [
      "Some weights of DistilBertForSequenceClassification were not initialized from the model checkpoint at distilbert-base-uncased and are newly initialized: ['classifier.bias', 'classifier.weight', 'pre_classifier.bias', 'pre_classifier.weight']\n",
      "You should probably TRAIN this model on a down-stream task to be able to use it for predictions and inference.\n",
      "a:\\PROJECTS\\Poseidon\\backend\\venv\\Lib\\site-packages\\transformers\\training_args.py:1568: FutureWarning: `evaluation_strategy` is deprecated and will be removed in version 4.46 of 🤗 Transformers. Use `eval_strategy` instead\n",
      "  warnings.warn(\n",
      "C:\\Users\\d-kin\\AppData\\Local\\Temp\\ipykernel_17852\\1545980311.py:24: FutureWarning: `tokenizer` is deprecated and will be removed in version 5.0.0 for `Trainer.__init__`. Use `processing_class` instead.\n",
      "  trainer = Trainer(\n"
     ]
    },
    {
     "name": "stdout",
     "output_type": "stream",
     "text": [
      "\n",
      "Training iteration 1/3\n"
     ]
    },
    {
     "data": {
      "application/vnd.jupyter.widget-view+json": {
       "model_id": "705934e3db69434ca6b5f1dcd37ed986",
       "version_major": 2,
       "version_minor": 0
      },
      "text/plain": [
       "  0%|          | 0/111 [00:00<?, ?it/s]"
      ]
     },
     "metadata": {},
     "output_type": "display_data"
    },
    {
     "name": "stdout",
     "output_type": "stream",
     "text": [
      "{'loss': 1.035, 'grad_norm': 1.5708190202713013, 'learning_rate': 1.81981981981982e-05, 'epoch': 0.27}\n",
      "{'loss': 0.9426, 'grad_norm': 2.1704864501953125, 'learning_rate': 1.6396396396396396e-05, 'epoch': 0.54}\n",
      "{'loss': 0.8474, 'grad_norm': 3.7815494537353516, 'learning_rate': 1.4594594594594596e-05, 'epoch': 0.81}\n"
     ]
    },
    {
     "data": {
      "application/vnd.jupyter.widget-view+json": {
       "model_id": "8138b52b872542cc8223f539167574d9",
       "version_major": 2,
       "version_minor": 0
      },
      "text/plain": [
       "  0%|          | 0/10 [00:00<?, ?it/s]"
      ]
     },
     "metadata": {},
     "output_type": "display_data"
    },
    {
     "name": "stdout",
     "output_type": "stream",
     "text": [
      "{'eval_loss': 0.8687297701835632, 'eval_runtime': 12.0081, 'eval_samples_per_second': 12.242, 'eval_steps_per_second': 0.833, 'epoch': 1.0}\n",
      "{'loss': 0.8664, 'grad_norm': 4.034229755401611, 'learning_rate': 1.2792792792792795e-05, 'epoch': 1.08}\n",
      "{'loss': 0.8069, 'grad_norm': 3.012813091278076, 'learning_rate': 1.0990990990990992e-05, 'epoch': 1.35}\n",
      "{'loss': 0.7544, 'grad_norm': 2.6807680130004883, 'learning_rate': 9.189189189189191e-06, 'epoch': 1.62}\n",
      "{'loss': 0.7099, 'grad_norm': 2.825132369995117, 'learning_rate': 7.387387387387388e-06, 'epoch': 1.89}\n"
     ]
    },
    {
     "data": {
      "application/vnd.jupyter.widget-view+json": {
       "model_id": "328c179a3dd74554a1741f526b66bb25",
       "version_major": 2,
       "version_minor": 0
      },
      "text/plain": [
       "  0%|          | 0/10 [00:00<?, ?it/s]"
      ]
     },
     "metadata": {},
     "output_type": "display_data"
    },
    {
     "name": "stdout",
     "output_type": "stream",
     "text": [
      "{'eval_loss': 0.7699875831604004, 'eval_runtime': 11.4349, 'eval_samples_per_second': 12.855, 'eval_steps_per_second': 0.875, 'epoch': 2.0}\n",
      "{'loss': 0.6441, 'grad_norm': 3.3679709434509277, 'learning_rate': 5.585585585585585e-06, 'epoch': 2.16}\n",
      "{'loss': 0.6455, 'grad_norm': 3.2169125080108643, 'learning_rate': 3.7837837837837844e-06, 'epoch': 2.43}\n",
      "{'loss': 0.6687, 'grad_norm': 3.392500877380371, 'learning_rate': 1.9819819819819822e-06, 'epoch': 2.7}\n",
      "{'loss': 0.6411, 'grad_norm': 4.040170669555664, 'learning_rate': 1.801801801801802e-07, 'epoch': 2.97}\n"
     ]
    },
    {
     "data": {
      "application/vnd.jupyter.widget-view+json": {
       "model_id": "f58eef7e9d4e4222bbedacb48183c5b3",
       "version_major": 2,
       "version_minor": 0
      },
      "text/plain": [
       "  0%|          | 0/10 [00:00<?, ?it/s]"
      ]
     },
     "metadata": {},
     "output_type": "display_data"
    },
    {
     "name": "stdout",
     "output_type": "stream",
     "text": [
      "{'eval_loss': 0.7452224493026733, 'eval_runtime': 14.1044, 'eval_samples_per_second': 10.422, 'eval_steps_per_second': 0.709, 'epoch': 3.0}\n",
      "{'train_runtime': 527.0521, 'train_samples_per_second': 3.33, 'train_steps_per_second': 0.211, 'train_loss': 0.7755482376695754, 'epoch': 3.0}\n",
      "\n",
      "Evaluating iteration 1:\n"
     ]
    },
    {
     "name": "stderr",
     "output_type": "stream",
     "text": [
      "C:\\Users\\d-kin\\AppData\\Local\\Temp\\ipykernel_17852\\4139598668.py:2: FutureWarning: `tokenizer` is deprecated and will be removed in version 5.0.0 for `Trainer.__init__`. Use `processing_class` instead.\n",
      "  trainer = Trainer(model=model, tokenizer=tokenizer)\n"
     ]
    },
    {
     "data": {
      "application/vnd.jupyter.widget-view+json": {
       "model_id": "e4aa8ddf3d724803b5ae9979c97a6357",
       "version_major": 2,
       "version_minor": 0
      },
      "text/plain": [
       "  0%|          | 0/19 [00:00<?, ?it/s]"
      ]
     },
     "metadata": {},
     "output_type": "display_data"
    },
    {
     "name": "stderr",
     "output_type": "stream",
     "text": [
      "a:\\PROJECTS\\Poseidon\\backend\\venv\\Lib\\site-packages\\sklearn\\metrics\\_classification.py:1531: UndefinedMetricWarning: Precision is ill-defined and being set to 0.0 in labels with no predicted samples. Use `zero_division` parameter to control this behavior.\n",
      "  _warn_prf(average, modifier, f\"{metric.capitalize()} is\", len(result))\n",
      "a:\\PROJECTS\\Poseidon\\backend\\venv\\Lib\\site-packages\\sklearn\\metrics\\_classification.py:1531: UndefinedMetricWarning: Precision is ill-defined and being set to 0.0 in labels with no predicted samples. Use `zero_division` parameter to control this behavior.\n",
      "  _warn_prf(average, modifier, f\"{metric.capitalize()} is\", len(result))\n",
      "a:\\PROJECTS\\Poseidon\\backend\\venv\\Lib\\site-packages\\sklearn\\metrics\\_classification.py:1531: UndefinedMetricWarning: Precision is ill-defined and being set to 0.0 in labels with no predicted samples. Use `zero_division` parameter to control this behavior.\n",
      "  _warn_prf(average, modifier, f\"{metric.capitalize()} is\", len(result))\n"
     ]
    },
    {
     "name": "stdout",
     "output_type": "stream",
     "text": [
      "              precision    recall  f1-score   support\n",
      "\n",
      "         Low       0.62      0.49      0.55        41\n",
      "      Medium       0.00      0.00      0.00        24\n",
      "        High       0.62      0.87      0.72        82\n",
      "\n",
      "    accuracy                           0.62       147\n",
      "   macro avg       0.41      0.45      0.42       147\n",
      "weighted avg       0.52      0.62      0.55       147\n",
      "\n"
     ]
    },
    {
     "data": {
      "image/png": "[encoded data removed]",
      "text/plain": [
       "<Figure size 640x480 with 2 Axes>"
      ]
     },
     "metadata": {},
     "output_type": "display_data"
    },
    {
     "name": "stdout",
     "output_type": "stream",
     "text": [
      "\n",
      "Training iteration 2/3\n"
     ]
    },
    {
     "name": "stderr",
     "output_type": "stream",
     "text": [
      "a:\\PROJECTS\\Poseidon\\backend\\venv\\Lib\\site-packages\\transformers\\training_args.py:1568: FutureWarning: `evaluation_strategy` is deprecated and will be removed in version 4.46 of 🤗 Transformers. Use `eval_strategy` instead\n",
      "  warnings.warn(\n",
      "C:\\Users\\d-kin\\AppData\\Local\\Temp\\ipykernel_17852\\1545980311.py:24: FutureWarning: `tokenizer` is deprecated and will be removed in version 5.0.0 for `Trainer.__init__`. Use `processing_class` instead.\n",
      "  trainer = Trainer(\n"
     ]
    },
    {
     "data": {
      "application/vnd.jupyter.widget-view+json": {
       "model_id": "c52fbfb55637498b904d421bcc267a6c",
       "version_major": 2,
       "version_minor": 0
      },
      "text/plain": [
       "  0%|          | 0/111 [00:00<?, ?it/s]"
      ]
     },
     "metadata": {},
     "output_type": "display_data"
    },
    {
     "name": "stdout",
     "output_type": "stream",
     "text": [
      "{'loss': 0.5823, 'grad_norm': 3.967231273651123, 'learning_rate': 1.81981981981982e-05, 'epoch': 0.27}\n",
      "{'loss': 0.5913, 'grad_norm': 4.994823932647705, 'learning_rate': 1.6396396396396396e-05, 'epoch': 0.54}\n",
      "{'loss': 0.4877, 'grad_norm': 7.600054740905762, 'learning_rate': 1.4594594594594596e-05, 'epoch': 0.81}\n"
     ]
    },
    {
     "data": {
      "application/vnd.jupyter.widget-view+json": {
       "model_id": "28770231805e4108bb86cec301c6e429",
       "version_major": 2,
       "version_minor": 0
      },
      "text/plain": [
       "  0%|          | 0/10 [00:00<?, ?it/s]"
      ]
     },
     "metadata": {},
     "output_type": "display_data"
    },
    {
     "name": "stdout",
     "output_type": "stream",
     "text": [
      "{'eval_loss': 0.6719439029693604, 'eval_runtime': 11.4638, 'eval_samples_per_second': 12.823, 'eval_steps_per_second': 0.872, 'epoch': 1.0}\n",
      "{'loss': 0.4737, 'grad_norm': 10.652689933776855, 'learning_rate': 1.2792792792792795e-05, 'epoch': 1.08}\n",
      "{'loss': 0.3451, 'grad_norm': 4.78279447555542, 'learning_rate': 1.0990990990990992e-05, 'epoch': 1.35}\n",
      "{'loss': 0.349, 'grad_norm': 2.8728256225585938, 'learning_rate': 9.189189189189191e-06, 'epoch': 1.62}\n",
      "{'loss': 0.3463, 'grad_norm': 6.65897798538208, 'learning_rate': 7.387387387387388e-06, 'epoch': 1.89}\n"
     ]
    },
    {
     "data": {
      "application/vnd.jupyter.widget-view+json": {
       "model_id": "118e1a20f4294206927bc55612ce4858",
       "version_major": 2,
       "version_minor": 0
      },
      "text/plain": [
       "  0%|          | 0/10 [00:00<?, ?it/s]"
      ]
     },
     "metadata": {},
     "output_type": "display_data"
    },
    {
     "name": "stdout",
     "output_type": "stream",
     "text": [
      "{'eval_loss': 0.589851438999176, 'eval_runtime': 11.1837, 'eval_samples_per_second': 13.144, 'eval_steps_per_second': 0.894, 'epoch': 2.0}\n",
      "{'loss': 0.3001, 'grad_norm': 6.409711837768555, 'learning_rate': 5.585585585585585e-06, 'epoch': 2.16}\n",
      "{'loss': 0.2625, 'grad_norm': 5.0715556144714355, 'learning_rate': 3.7837837837837844e-06, 'epoch': 2.43}\n",
      "{'loss': 0.2838, 'grad_norm': 6.719059467315674, 'learning_rate': 1.9819819819819822e-06, 'epoch': 2.7}\n",
      "{'loss': 0.2478, 'grad_norm': 5.094348907470703, 'learning_rate': 1.801801801801802e-07, 'epoch': 2.97}\n"
     ]
    },
    {
     "data": {
      "application/vnd.jupyter.widget-view+json": {
       "model_id": "22294ba1778048b889fedca4a8d9924c",
       "version_major": 2,
       "version_minor": 0
      },
      "text/plain": [
       "  0%|          | 0/10 [00:00<?, ?it/s]"
      ]
     },
     "metadata": {},
     "output_type": "display_data"
    },
    {
     "name": "stdout",
     "output_type": "stream",
     "text": [
      "{'eval_loss': 0.5740052461624146, 'eval_runtime': 14.0244, 'eval_samples_per_second': 10.482, 'eval_steps_per_second': 0.713, 'epoch': 3.0}\n",
      "{'train_runtime': 534.962, 'train_samples_per_second': 3.281, 'train_steps_per_second': 0.207, 'train_loss': 0.3860382938438708, 'epoch': 3.0}\n",
      "\n",
      "Evaluating iteration 2:\n"
     ]
    },
    {
     "name": "stderr",
     "output_type": "stream",
     "text": [
      "C:\\Users\\d-kin\\AppData\\Local\\Temp\\ipykernel_17852\\4139598668.py:2: FutureWarning: `tokenizer` is deprecated and will be removed in version 5.0.0 for `Trainer.__init__`. Use `processing_class` instead.\n",
      "  trainer = Trainer(model=model, tokenizer=tokenizer)\n"
     ]
    },
    {
     "data": {
      "application/vnd.jupyter.widget-view+json": {
       "model_id": "3325e0eebc7d4768afe34f55b8054857",
       "version_major": 2,
       "version_minor": 0
      },
      "text/plain": [
       "  0%|          | 0/19 [00:00<?, ?it/s]"
      ]
     },
     "metadata": {},
     "output_type": "display_data"
    },
    {
     "name": "stdout",
     "output_type": "stream",
     "text": [
      "              precision    recall  f1-score   support\n",
      "\n",
      "         Low       0.77      0.73      0.75        41\n",
      "      Medium       0.73      0.67      0.70        24\n",
      "        High       0.78      0.82      0.80        82\n",
      "\n",
      "    accuracy                           0.77       147\n",
      "   macro avg       0.76      0.74      0.75       147\n",
      "weighted avg       0.77      0.77      0.77       147\n",
      "\n"
     ]
    },
    {
     "data": {
      "image/png": "[encoded data removed]",
      "text/plain": [
       "<Figure size 640x480 with 2 Axes>"
      ]
     },
     "metadata": {},
     "output_type": "display_data"
    },
    {
     "name": "stdout",
     "output_type": "stream",
     "text": [
      "\n",
      "Training iteration 3/3\n"
     ]
    },
    {
     "name": "stderr",
     "output_type": "stream",
     "text": [
      "a:\\PROJECTS\\Poseidon\\backend\\venv\\Lib\\site-packages\\transformers\\training_args.py:1568: FutureWarning: `evaluation_strategy` is deprecated and will be removed in version 4.46 of 🤗 Transformers. Use `eval_strategy` instead\n",
      "  warnings.warn(\n",
      "C:\\Users\\d-kin\\AppData\\Local\\Temp\\ipykernel_17852\\1545980311.py:24: FutureWarning: `tokenizer` is deprecated and will be removed in version 5.0.0 for `Trainer.__init__`. Use `processing_class` instead.\n",
      "  trainer = Trainer(\n"
     ]
    },
    {
     "data": {
      "application/vnd.jupyter.widget-view+json": {
       "model_id": "0cc967e70f6f47ce96e7c35d5f2cf394",
       "version_major": 2,
       "version_minor": 0
      },
      "text/plain": [
       "  0%|          | 0/111 [00:00<?, ?it/s]"
      ]
     },
     "metadata": {},
     "output_type": "display_data"
    },
    {
     "name": "stdout",
     "output_type": "stream",
     "text": [
      "{'loss': 0.1721, 'grad_norm': 5.92009973526001, 'learning_rate': 1.81981981981982e-05, 'epoch': 0.27}\n",
      "{'loss': 0.2334, 'grad_norm': 4.719390392303467, 'learning_rate': 1.6396396396396396e-05, 'epoch': 0.54}\n",
      "{'loss': 0.2181, 'grad_norm': 19.500722885131836, 'learning_rate': 1.4594594594594596e-05, 'epoch': 0.81}\n"
     ]
    },
    {
     "data": {
      "application/vnd.jupyter.widget-view+json": {
       "model_id": "8f5d93392961472496d5050266370d14",
       "version_major": 2,
       "version_minor": 0
      },
      "text/plain": [
       "  0%|          | 0/10 [00:00<?, ?it/s]"
      ]
     },
     "metadata": {},
     "output_type": "display_data"
    },
    {
     "name": "stdout",
     "output_type": "stream",
     "text": [
      "{'eval_loss': 0.6133610606193542, 'eval_runtime': 11.2345, 'eval_samples_per_second': 13.085, 'eval_steps_per_second': 0.89, 'epoch': 1.0}\n",
      "{'loss': 0.2018, 'grad_norm': 21.21042251586914, 'learning_rate': 1.2792792792792795e-05, 'epoch': 1.08}\n",
      "{'loss': 0.1088, 'grad_norm': 1.8483597040176392, 'learning_rate': 1.0990990990990992e-05, 'epoch': 1.35}\n",
      "{'loss': 0.136, 'grad_norm': 2.220478057861328, 'learning_rate': 9.189189189189191e-06, 'epoch': 1.62}\n",
      "{'loss': 0.1501, 'grad_norm': 10.97492790222168, 'learning_rate': 7.387387387387388e-06, 'epoch': 1.89}\n"
     ]
    },
    {
     "data": {
      "application/vnd.jupyter.widget-view+json": {
       "model_id": "b3b31add0f1e4c2baafafc44bf2e5d19",
       "version_major": 2,
       "version_minor": 0
      },
      "text/plain": [
       "  0%|          | 0/10 [00:00<?, ?it/s]"
      ]
     },
     "metadata": {},
     "output_type": "display_data"
    },
    {
     "name": "stdout",
     "output_type": "stream",
     "text": [
      "{'eval_loss': 0.6096106171607971, 'eval_runtime': 11.2963, 'eval_samples_per_second': 13.013, 'eval_steps_per_second': 0.885, 'epoch': 2.0}\n",
      "{'loss': 0.1075, 'grad_norm': 3.8082540035247803, 'learning_rate': 5.585585585585585e-06, 'epoch': 2.16}\n",
      "{'loss': 0.0612, 'grad_norm': 4.278726100921631, 'learning_rate': 3.7837837837837844e-06, 'epoch': 2.43}\n",
      "{'loss': 0.0847, 'grad_norm': 5.074487209320068, 'learning_rate': 1.9819819819819822e-06, 'epoch': 2.7}\n",
      "{'loss': 0.0668, 'grad_norm': 1.808067798614502, 'learning_rate': 1.801801801801802e-07, 'epoch': 2.97}\n"
     ]
    },
    {
     "data": {
      "application/vnd.jupyter.widget-view+json": {
       "model_id": "9bb6fb73157840a8bf8d2dc0deaa6a31",
       "version_major": 2,
       "version_minor": 0
      },
      "text/plain": [
       "  0%|          | 0/10 [00:00<?, ?it/s]"
      ]
     },
     "metadata": {},
     "output_type": "display_data"
    },
    {
     "name": "stdout",
     "output_type": "stream",
     "text": [
      "{'eval_loss': 0.6112648844718933, 'eval_runtime': 13.8491, 'eval_samples_per_second': 10.614, 'eval_steps_per_second': 0.722, 'epoch': 3.0}\n",
      "{'train_runtime': 539.3757, 'train_samples_per_second': 3.254, 'train_steps_per_second': 0.206, 'train_loss': 0.13905875908361898, 'epoch': 3.0}\n",
      "\n",
      "Evaluating iteration 3:\n"
     ]
    },
    {
     "name": "stderr",
     "output_type": "stream",
     "text": [
      "C:\\Users\\d-kin\\AppData\\Local\\Temp\\ipykernel_17852\\4139598668.py:2: FutureWarning: `tokenizer` is deprecated and will be removed in version 5.0.0 for `Trainer.__init__`. Use `processing_class` instead.\n",
      "  trainer = Trainer(model=model, tokenizer=tokenizer)\n"
     ]
    },
    {
     "data": {
      "application/vnd.jupyter.widget-view+json": {
       "model_id": "572358e8b348487c9daab10650a4ecfd",
       "version_major": 2,
       "version_minor": 0
      },
      "text/plain": [
       "  0%|          | 0/19 [00:00<?, ?it/s]"
      ]
     },
     "metadata": {},
     "output_type": "display_data"
    },
    {
     "name": "stdout",
     "output_type": "stream",
     "text": [
      "              precision    recall  f1-score   support\n",
      "\n",
      "         Low       0.69      0.83      0.76        41\n",
      "      Medium       0.83      0.62      0.71        24\n",
      "        High       0.80      0.78      0.79        82\n",
      "\n",
      "    accuracy                           0.77       147\n",
      "   macro avg       0.78      0.74      0.75       147\n",
      "weighted avg       0.78      0.77      0.77       147\n",
      "\n"
     ]
    },
    {
     "data": {
      "image/png": "[encoded data removed]",
      "text/plain": [
       "<Figure size 640x480 with 2 Axes>"
      ]
     },
     "metadata": {},
     "output_type": "display_data"
    }
   ],
   "source": [
    "# Get the size of the engagement dataset\n",
    "engagement_data_size = len(data2)\n",
    "num_iterations = 7  # Number of times to train sentiment model\n",
    "\n",
    "# Train sentiment model multiple times\n",
    "print(\"Training Sentiment Model with multiple iterations...\")\n",
    "sentiment_model = train_sentiment_model_with_batches(\n",
    "    data1,\n",
    "    engagement_data_size,\n",
    "    num_iterations,\n",
    "    tokenizer\n",
    ")\n",
    "\n",
    "# Train engagement model normally\n",
    "print(\"\\nTraining Engagement Model...\")\n",
    "engagement_model = train_transformer_model(\n",
    "    train_dataset2, \n",
    "    test_dataset2, \n",
    "    num_labels=3, \n",
    "    output_dir=\"../../../ml_models/engagement_model\"\n",
    ")"
   ]
  },
  {
   "cell_type": "markdown",
   "metadata": {},
   "source": [
    "Step 5: Evaluate Final Models"
   ]
  },
  {
   "cell_type": "code",
   "execution_count": 9,
   "metadata": {},
   "outputs": [
    {
     "name": "stderr",
     "output_type": "stream",
     "text": [
      "C:\\Users\\d-kin\\AppData\\Local\\Temp\\ipykernel_17852\\4139598668.py:2: FutureWarning: `tokenizer` is deprecated and will be removed in version 5.0.0 for `Trainer.__init__`. Use `processing_class` instead.\n",
      "  trainer = Trainer(model=model, tokenizer=tokenizer)\n"
     ]
    },
    {
     "data": {
      "application/vnd.jupyter.widget-view+json": {
       "model_id": "c64c2c12dc6c4f8ebbda657bd650d448",
       "version_major": 2,
       "version_minor": 0
      },
      "text/plain": [
       "  0%|          | 0/688 [00:00<?, ?it/s]"
      ]
     },
     "metadata": {},
     "output_type": "display_data"
    },
    {
     "name": "stdout",
     "output_type": "stream",
     "text": [
      "              precision    recall  f1-score   support\n",
      "\n",
      "    Negative       0.88      0.88      0.88      1705\n",
      "     Neutral       0.87      0.84      0.86      1562\n",
      "    Positive       0.86      0.88      0.87      2230\n",
      "\n",
      "    accuracy                           0.87      5497\n",
      "   macro avg       0.87      0.87      0.87      5497\n",
      "weighted avg       0.87      0.87      0.87      5497\n",
      "\n"
     ]
    },
    {
     "data": {
      "image/png": "[encoded data removed]",
      "text/plain": [
       "<Figure size 640x480 with 2 Axes>"
      ]
     },
     "metadata": {},
     "output_type": "display_data"
    },
    {
     "name": "stderr",
     "output_type": "stream",
     "text": [
      "C:\\Users\\d-kin\\AppData\\Local\\Temp\\ipykernel_17852\\4139598668.py:2: FutureWarning: `tokenizer` is deprecated and will be removed in version 5.0.0 for `Trainer.__init__`. Use `processing_class` instead.\n",
      "  trainer = Trainer(model=model, tokenizer=tokenizer)\n"
     ]
    },
    {
     "data": {
      "application/vnd.jupyter.widget-view+json": {
       "model_id": "bad1e4e74c0a4fa9b4ab145a0a5d837f",
       "version_major": 2,
       "version_minor": 0
      },
      "text/plain": [
       "  0%|          | 0/19 [00:00<?, ?it/s]"
      ]
     },
     "metadata": {},
     "output_type": "display_data"
    },
    {
     "name": "stdout",
     "output_type": "stream",
     "text": [
      "              precision    recall  f1-score   support\n",
      "\n",
      "         Low       0.69      0.83      0.76        41\n",
      "      Medium       0.83      0.62      0.71        24\n",
      "        High       0.80      0.78      0.79        82\n",
      "\n",
      "    accuracy                           0.77       147\n",
      "   macro avg       0.78      0.74      0.75       147\n",
      "weighted avg       0.78      0.77      0.77       147\n",
      "\n"
     ]
    },
    {
     "data": {
      "image/png": "[encoded data removed]",
      "text/plain": [
       "<Figure size 640x480 with 2 Axes>"
      ]
     },
     "metadata": {},
     "output_type": "display_data"
    }
   ],
   "source": [
    "evaluate_model(sentiment_model, test_dataset1, [\"Negative\", \"Neutral\", \"Positive\"])\n",
    "evaluate_model(engagement_model, test_dataset2, [\"Low\", \"Medium\", \"High\"])"
   ]
  },
  {
   "cell_type": "markdown",
   "metadata": {},
   "source": [
    "Step 6: Meta-Model Using Transformer Outputs"
   ]
  },
  {
   "cell_type": "code",
   "execution_count": 10,
   "metadata": {},
   "outputs": [
    {
     "name": "stderr",
     "output_type": "stream",
     "text": [
      "C:\\Users\\d-kin\\AppData\\Local\\Temp\\ipykernel_17852\\3680207455.py:12: FutureWarning: `tokenizer` is deprecated and will be removed in version 5.0.0 for `Trainer.__init__`. Use `processing_class` instead.\n",
      "  trainer = Trainer(\n"
     ]
    },
    {
     "data": {
      "application/vnd.jupyter.widget-view+json": {
       "model_id": "34d10119ab294fd0b21384102e024afb",
       "version_major": 2,
       "version_minor": 0
      },
      "text/plain": [
       "  0%|          | 0/37 [00:00<?, ?it/s]"
      ]
     },
     "metadata": {},
     "output_type": "display_data"
    },
    {
     "data": {
      "application/vnd.jupyter.widget-view+json": {
       "model_id": "b647607df9414727b2f5ac1ce07f12e7",
       "version_major": 2,
       "version_minor": 0
      },
      "text/plain": [
       "  0%|          | 0/37 [00:00<?, ?it/s]"
      ]
     },
     "metadata": {},
     "output_type": "display_data"
    },
    {
     "data": {
      "application/vnd.jupyter.widget-view+json": {
       "model_id": "8e6b066f32d248d7942e75de38d2b6a2",
       "version_major": 2,
       "version_minor": 0
      },
      "text/plain": [
       "  0%|          | 0/10 [00:00<?, ?it/s]"
      ]
     },
     "metadata": {},
     "output_type": "display_data"
    },
    {
     "data": {
      "application/vnd.jupyter.widget-view+json": {
       "model_id": "c4a495c903ec4b44ae89e5899f8fb11b",
       "version_major": 2,
       "version_minor": 0
      },
      "text/plain": [
       "  0%|          | 0/10 [00:00<?, ?it/s]"
      ]
     },
     "metadata": {},
     "output_type": "display_data"
    },
    {
     "name": "stdout",
     "output_type": "stream",
     "text": [
      "\n",
      "Meta-model Performance:\n",
      "              precision    recall  f1-score   support\n",
      "\n",
      "           0       0.73      0.78      0.75        41\n",
      "           1       0.81      0.71      0.76        24\n",
      "           2       0.80      0.80      0.80        82\n",
      "\n",
      "    accuracy                           0.78       147\n",
      "   macro avg       0.78      0.76      0.77       147\n",
      "weighted avg       0.78      0.78      0.78       147\n",
      "\n"
     ]
    }
   ],
   "source": [
    "# Create balanced datasets for feature extraction\n",
    "engagement_size = len(train_dataset2)  # Use engagement dataset size as reference\n",
    "sentiment_indices = np.random.choice(len(train_dataset1), size=engagement_size, replace=False)\n",
    "\n",
    "# Create subset of sentiment dataset\n",
    "train_dataset1_subset = torch.utils.data.Subset(train_dataset1, sentiment_indices)\n",
    "test_dataset1_subset = torch.utils.data.Subset(test_dataset1, \n",
    "    np.random.choice(len(test_dataset1), size=len(test_dataset2), replace=False))\n",
    "\n",
    "# Extract features using the balanced datasets\n",
    "def extract_features(dataset, model):\n",
    "    trainer = Trainer(\n",
    "        model=model,\n",
    "        tokenizer=tokenizer,\n",
    "        args=TrainingArguments(\n",
    "            output_dir=\"./tmp\",\n",
    "            per_device_eval_batch_size=16,\n",
    "        )\n",
    "    )\n",
    "    predictions = trainer.predict(dataset)\n",
    "    return predictions.predictions\n",
    "\n",
    "# Extract features from both models\n",
    "train_features1 = extract_features(train_dataset1_subset, sentiment_model)\n",
    "train_features2 = extract_features(train_dataset2, engagement_model)\n",
    "\n",
    "test_features1 = extract_features(test_dataset1_subset, sentiment_model)\n",
    "test_features2 = extract_features(test_dataset2, engagement_model)\n",
    "\n",
    "# Combine features for meta-model\n",
    "meta_train_features = np.hstack([train_features1, train_features2])\n",
    "meta_test_features = np.hstack([test_features1, test_features2])\n",
    "\n",
    "# Get the correct labels from the engagement dataset\n",
    "train_labels = [train_dataset2[i]['labels'].item() for i in range(len(train_dataset2))]\n",
    "test_labels = [test_dataset2[i]['labels'].item() for i in range(len(test_dataset2))]\n",
    "\n",
    "# Train meta-model\n",
    "meta_model = LogisticRegression(random_state=42)\n",
    "meta_model.fit(meta_train_features, train_labels)\n",
    "\n",
    "# Evaluate meta-model\n",
    "meta_preds = meta_model.predict(meta_test_features)\n",
    "print(\"\\nMeta-model Performance:\")\n",
    "print(classification_report(test_labels, meta_preds))"
   ]
  },
  {
   "cell_type": "markdown",
   "metadata": {},
   "source": [
    "Step 7: Update Prediction Function"
   ]
  },
  {
   "cell_type": "code",
   "execution_count": 11,
   "metadata": {},
   "outputs": [
    {
     "name": "stdout",
     "output_type": "stream",
     "text": [
      "Predicted Sentiment: negative, Predicted Engagement: low\n"
     ]
    }
   ],
   "source": [
    "# Create and fit vectorizer for sentiment analysis\n",
    "vectorizer1 = TfidfVectorizer(max_features=1000)\n",
    "vectorizer1.fit([text for text in texts1_train])  # Using your sentiment training texts\n",
    "\n",
    "# Create and fit vectorizer for engagement analysis\n",
    "vectorizer2 = TfidfVectorizer(max_features=1000)\n",
    "vectorizer2.fit([text for text in texts2_train])  # Using your engagement training texts\n",
    "\n",
    "# Now update the prediction function\n",
    "def suggest_optimal_content(text, hashtags):\n",
    "    # Prepare the text for sentiment prediction\n",
    "    inputs = tokenizer(\n",
    "        text,\n",
    "        max_length=128,\n",
    "        padding=\"max_length\",\n",
    "        truncation=True,\n",
    "        return_tensors=\"pt\"\n",
    "    )\n",
    "    \n",
    "    # Get sentiment prediction\n",
    "    with torch.no_grad():\n",
    "        sentiment_outputs = sentiment_model(**inputs)\n",
    "        sentiment_probs = torch.nn.functional.softmax(sentiment_outputs.logits, dim=-1)\n",
    "        sentiment_pred = torch.argmax(sentiment_probs, dim=-1).item()\n",
    "    \n",
    "    # Map sentiment prediction to label\n",
    "    sentiment_labels = [\"negative\", \"neutral\", \"positive\"]\n",
    "    sentiment = sentiment_labels[sentiment_pred]\n",
    "    \n",
    "    # Prepare text with hashtags for engagement prediction\n",
    "    full_text = text + \" \" + \" \".join(hashtags)\n",
    "    inputs_engagement = tokenizer(\n",
    "        full_text,\n",
    "        max_length=128,\n",
    "        padding=\"max_length\",\n",
    "        truncation=True,\n",
    "        return_tensors=\"pt\"\n",
    "    )\n",
    "    \n",
    "    # Get engagement prediction\n",
    "    with torch.no_grad():\n",
    "        engagement_outputs = engagement_model(**inputs_engagement)\n",
    "        engagement_probs = torch.nn.functional.softmax(engagement_outputs.logits, dim=-1)\n",
    "        engagement_pred = torch.argmax(engagement_probs, dim=-1).item()\n",
    "    \n",
    "    # Map engagement prediction to label\n",
    "    engagement_labels = [\"low\", \"medium\", \"high\"]  # Adjust these based on your actual labels\n",
    "    engagement = engagement_labels[engagement_pred]\n",
    "    \n",
    "    return sentiment, engagement\n",
    "\n",
    "# Test the function\n",
    "text = \"Excited about the weekend adventure!\"\n",
    "hashtags = [\"#Travel\", \"#Adventure\"]\n",
    "sentiment, engagement = suggest_optimal_content(text, hashtags)\n",
    "print(f\"Predicted Sentiment: {sentiment}, Predicted Engagement: {engagement}\")"
   ]
  },
  {
   "cell_type": "markdown",
   "metadata": {},
   "source": [
    "Step 8: Save Models"
   ]
  },
  {
   "cell_type": "code",
   "execution_count": 12,
   "metadata": {},
   "outputs": [
    {
     "name": "stdout",
     "output_type": "stream",
     "text": [
      "Models saved successfully.\n"
     ]
    }
   ],
   "source": [
    "os.makedirs('../../../ml_models', exist_ok=True)\n",
    "joblib.dump(sentiment_model, '../../../ml_models/sentiment_model/sentiment_model.joblib')\n",
    "joblib.dump(engagement_model, '../../../ml_models/engagement_model/engagement_model.joblib')\n",
    "joblib.dump(meta_model, '../../../ml_models/sentiment_analysis/meta_model.joblib')\n",
    "joblib.dump(vectorizer1, '../../../ml_models/sentiment_analysis/vectorizer1.joblib')\n",
    "joblib.dump(vectorizer2, '../../../ml_models/sentiment_analysis/vectorizer2.joblib')\n",
    "\n",
    "print(\"Models saved successfully.\")"
   ]
  },
  {
   "cell_type": "markdown",
   "metadata": {},
   "source": [
    "Step 9: Cross-Validation and Learning Curves"
   ]
  },
  {
   "cell_type": "code",
   "execution_count": 13,
   "metadata": {},
   "outputs": [
    {
     "name": "stderr",
     "output_type": "stream",
     "text": [
      "C:\\Users\\d-kin\\AppData\\Local\\Temp\\ipykernel_17852\\3616411540.py:3: FutureWarning: `tokenizer` is deprecated and will be removed in version 5.0.0 for `Trainer.__init__`. Use `processing_class` instead.\n",
      "  trainer = Trainer(\n"
     ]
    },
    {
     "data": {
      "application/vnd.jupyter.widget-view+json": {
       "model_id": "00a3df7c4f504b318515df421c6ad737",
       "version_major": 2,
       "version_minor": 0
      },
      "text/plain": [
       "  0%|          | 0/1374 [00:00<?, ?it/s]"
      ]
     },
     "metadata": {},
     "output_type": "display_data"
    },
    {
     "data": {
      "application/vnd.jupyter.widget-view+json": {
       "model_id": "c7c8d66a64b643cb9882f06e88cb2183",
       "version_major": 2,
       "version_minor": 0
      },
      "text/plain": [
       "  0%|          | 0/344 [00:00<?, ?it/s]"
      ]
     },
     "metadata": {},
     "output_type": "display_data"
    },
    {
     "data": {
      "application/vnd.jupyter.widget-view+json": {
       "model_id": "06e36b9bc1ab4c6e81e1bbdc34f367c5",
       "version_major": 2,
       "version_minor": 0
      },
      "text/plain": [
       "  0%|          | 0/37 [00:00<?, ?it/s]"
      ]
     },
     "metadata": {},
     "output_type": "display_data"
    },
    {
     "data": {
      "application/vnd.jupyter.widget-view+json": {
       "model_id": "ba5e706bf2384bfe9565c4c0697bca1c",
       "version_major": 2,
       "version_minor": 0
      },
      "text/plain": [
       "  0%|          | 0/10 [00:00<?, ?it/s]"
      ]
     },
     "metadata": {},
     "output_type": "display_data"
    }
   ],
   "source": [
    "# Extract features from the datasets\n",
    "def extract_features_from_dataset(dataset, model):\n",
    "    trainer = Trainer(\n",
    "        model=model,\n",
    "        tokenizer=tokenizer,\n",
    "        args=TrainingArguments(\n",
    "            output_dir=\"./tmp\",\n",
    "            per_device_eval_batch_size=16,\n",
    "        )\n",
    "    )\n",
    "    predictions = trainer.predict(dataset)\n",
    "    return predictions.predictions\n",
    "\n",
    "# Extract features for sentiment analysis\n",
    "X1_train = extract_features_from_dataset(train_dataset1, sentiment_model)\n",
    "X1_test = extract_features_from_dataset(test_dataset1, sentiment_model)\n",
    "\n",
    "# Extract features for engagement analysis\n",
    "X2_train = extract_features_from_dataset(train_dataset2, engagement_model)\n",
    "X2_test = extract_features_from_dataset(test_dataset2, engagement_model)\n",
    "\n",
    "# Get labels\n",
    "y1_train = [train_dataset1[i]['labels'].item() for i in range(len(train_dataset1))]\n",
    "y1_test = [test_dataset1[i]['labels'].item() for i in range(len(test_dataset1))]\n",
    "y2_train = [train_dataset2[i]['labels'].item() for i in range(len(train_dataset2))]\n",
    "y2_test = [test_dataset2[i]['labels'].item() for i in range(len(test_dataset2))]"
   ]
  },
  {
   "cell_type": "code",
   "execution_count": 14,
   "metadata": {},
   "outputs": [],
   "source": [
    "class TransformerClassifierWrapper(BaseEstimator, ClassifierMixin):\n",
    "    def __init__(self, model):\n",
    "        self.model = model\n",
    "        self.classes_ = np.array([0, 1, 2])  # Assuming 3 classes (0, 1, 2)\n",
    "        \n",
    "    def fit(self, X, y):\n",
    "        # Set classes based on unique values in y\n",
    "        self.classes_ = np.unique(y)\n",
    "        return self\n",
    "        \n",
    "    def predict(self, X):\n",
    "        self.model.eval()\n",
    "        predictions = []\n",
    "        \n",
    "        with torch.no_grad():\n",
    "            for batch in X:\n",
    "                # Convert input_ids and attention_mask to proper tensors\n",
    "                input_ids = batch['input_ids'].clone().detach()\n",
    "                attention_mask = batch['attention_mask'].clone().detach()\n",
    "                \n",
    "                # Add batch dimension if needed\n",
    "                if input_ids.dim() == 1:\n",
    "                    input_ids = input_ids.unsqueeze(0)\n",
    "                    attention_mask = attention_mask.unsqueeze(0)\n",
    "                \n",
    "                # Move to correct device\n",
    "                input_ids = input_ids.to(self.model.device)\n",
    "                attention_mask = attention_mask.to(self.model.device)\n",
    "                \n",
    "                outputs = self.model(\n",
    "                    input_ids=input_ids,\n",
    "                    attention_mask=attention_mask\n",
    "                )\n",
    "                logits = outputs.logits\n",
    "                pred = torch.argmax(logits, dim=1).cpu().item()\n",
    "                predictions.append(pred)\n",
    "                \n",
    "        return np.array(predictions)\n",
    "    \n",
    "    def predict_proba(self, X):\n",
    "        self.model.eval()\n",
    "        probabilities = []\n",
    "        \n",
    "        with torch.no_grad():\n",
    "            for batch in X:\n",
    "                # Convert input_ids and attention_mask to proper tensors\n",
    "                input_ids = batch['input_ids'].clone().detach()\n",
    "                attention_mask = batch['attention_mask'].clone().detach()\n",
    "                \n",
    "                # Add batch dimension if needed\n",
    "                if input_ids.dim() == 1:\n",
    "                    input_ids = input_ids.unsqueeze(0)\n",
    "                    attention_mask = attention_mask.unsqueeze(0)\n",
    "                \n",
    "                # Move to correct device\n",
    "                input_ids = input_ids.to(self.model.device)\n",
    "                attention_mask = attention_mask.to(self.model.device)\n",
    "                \n",
    "                outputs = self.model(\n",
    "                    input_ids=input_ids,\n",
    "                    attention_mask=attention_mask\n",
    "                )\n",
    "                logits = outputs.logits\n",
    "                probs = torch.softmax(logits, dim=1).cpu().numpy()\n",
    "                probabilities.append(probs[0])\n",
    "                \n",
    "        return np.array(probabilities)"
   ]
  },
  {
   "cell_type": "code",
   "execution_count": 15,
   "metadata": {},
   "outputs": [
    {
     "name": "stdout",
     "output_type": "stream",
     "text": [
      "Evaluating Sentiment Analysis Model...\n",
      "\n",
      "Sentiment Analysis Model Cross-Validation Results:\n",
      "accuracy: 0.872 (+/- 0.011)\n",
      "f1_weighted: 0.872 (+/- 0.011)\n",
      "precision_weighted: 0.872 (+/- 0.011)\n",
      "recall_weighted: 0.872 (+/- 0.011)\n",
      "\n",
      "Evaluating Engagement Model...\n",
      "\n",
      "Engagement Prediction Model Cross-Validation Results:\n",
      "accuracy: 0.981 (+/- 0.020)\n",
      "f1_weighted: 0.981 (+/- 0.022)\n",
      "precision_weighted: 0.982 (+/- 0.019)\n",
      "recall_weighted: 0.981 (+/- 0.020)\n"
     ]
    }
   ],
   "source": [
    "def evaluate_model_with_cv(model, dataset, model_name, n_folds=5):\n",
    "    # Create the wrapper\n",
    "    wrapped_model = TransformerClassifierWrapper(model)\n",
    "    \n",
    "    # Prepare data - keep tensors as is\n",
    "    X = [{'input_ids': dataset[i]['input_ids'], \n",
    "          'attention_mask': dataset[i]['attention_mask']} \n",
    "         for i in range(len(dataset))]\n",
    "    y = np.array([dataset[i]['labels'].item() for i in range(len(dataset))])\n",
    "    \n",
    "    # Perform cross-validation\n",
    "    cv = KFold(n_splits=n_folds, shuffle=True, random_state=42)\n",
    "    \n",
    "    # Use multiple scoring metrics\n",
    "    scoring = {\n",
    "        'accuracy': 'accuracy',\n",
    "        'f1_weighted': 'f1_weighted',\n",
    "        'precision_weighted': 'precision_weighted',\n",
    "        'recall_weighted': 'recall_weighted'\n",
    "    }\n",
    "    \n",
    "    cv_scores = cross_validate(wrapped_model, X, y, cv=cv, scoring=scoring)\n",
    "    \n",
    "    print(f\"\\n{model_name} Cross-Validation Results:\")\n",
    "    for metric, scores in cv_scores.items():\n",
    "        if metric.startswith('test_'):\n",
    "            metric_name = metric[5:]  # Remove 'test_' prefix\n",
    "            print(f\"{metric_name}: {scores.mean():.3f} (+/- {scores.std() * 2:.3f})\")\n",
    "    \n",
    "    return cv_scores\n",
    "\n",
    "# Evaluate models with cross-validation\n",
    "print(\"Evaluating Sentiment Analysis Model...\")\n",
    "sentiment_scores = evaluate_model_with_cv(sentiment_model, train_dataset1, \"Sentiment Analysis Model\")\n",
    "\n",
    "print(\"\\nEvaluating Engagement Model...\")\n",
    "engagement_scores = evaluate_model_with_cv(engagement_model, train_dataset2, \"Engagement Prediction Model\")"
   ]
  }
 ],
 "metadata": {
  "kernelspec": {
   "display_name": "venv",
   "language": "python",
   "name": "python3"
  },
  "language_info": {
   "codemirror_mode": {
    "name": "ipython",
    "version": 3
   },
   "file_extension": ".py",
   "mimetype": "text/x-python",
   "name": "python",
   "nbconvert_exporter": "python",
   "pygments_lexer": "ipython3",
   "version": "3.11.4"
  }
 },
 "nbformat": 4,
 "nbformat_minor": 2
}
